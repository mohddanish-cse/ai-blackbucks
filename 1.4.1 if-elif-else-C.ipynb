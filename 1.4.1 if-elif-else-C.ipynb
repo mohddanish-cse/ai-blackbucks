{
 "cells": [
  {
   "cell_type": "markdown",
   "metadata": {},
   "source": [
    "### Operators\n",
    "\n",
    "Operators are special symbols in Python that carry out arithmetic or logical computation. The value that the operator   \n",
    "operates on is called the operand."
   ]
  },
  {
   "cell_type": "markdown",
   "metadata": {},
   "source": [
    "1. Arithmetic operators\n",
    "\n",
    "2. Bitwise operators\n",
    "\n",
    "3. Assignment operators\n",
    "\n",
    "4. comparision( Relational) operators\n",
    "\n",
    "5. Logical (Boolean) operators\n",
    "\n",
    "6. Special operators\n"
   ]
  },
  {
   "cell_type": "markdown",
   "metadata": {},
   "source": [
    "### Assignment operators"
   ]
  },
  {
   "cell_type": "markdown",
   "metadata": {},
   "source": [
    "- Assignment oprqators are used in python to assign values to variables.\n",
    "- a = 5 is a simple assignment operator taht assigns the value 5 on the right to the variable on the left.\n",
    "\n",
    "- =,+=,-=,/=,%=,//=,*=,&=,|=,^=,>>=,<<= are\n"
   ]
  },
  {
   "cell_type": "code",
   "execution_count": 1,
   "metadata": {},
   "outputs": [
    {
     "data": {
      "text/plain": [
       "11"
      ]
     },
     "execution_count": 1,
     "metadata": {},
     "output_type": "execute_result"
    }
   ],
   "source": [
    "a =10\n",
    "a += 1\n",
    "a"
   ]
  },
  {
   "cell_type": "code",
   "execution_count": 2,
   "metadata": {},
   "outputs": [
    {
     "data": {
      "text/plain": [
       "10"
      ]
     },
     "execution_count": 2,
     "metadata": {},
     "output_type": "execute_result"
    }
   ],
   "source": [
    "a -= 1\n",
    "a"
   ]
  },
  {
   "cell_type": "code",
   "execution_count": 3,
   "metadata": {},
   "outputs": [
    {
     "data": {
      "text/plain": [
       "20"
      ]
     },
     "execution_count": 3,
     "metadata": {},
     "output_type": "execute_result"
    }
   ],
   "source": [
    "a*=2\n",
    "a"
   ]
  },
  {
   "cell_type": "markdown",
   "metadata": {},
   "source": [
    "### Membership Operators\n",
    "\n",
    "- `in` and `not in` are the membership operators in Python. They are used to test whether a value or variable is found in a sequence (string, list, tuple, set and dictionary)"
   ]
  },
  {
   "cell_type": "code",
   "execution_count": 4,
   "metadata": {},
   "outputs": [
    {
     "name": "stdout",
     "output_type": "stream",
     "text": [
      "True\n",
      "False\n"
     ]
    }
   ],
   "source": [
    "#executes every single line\n",
    "from IPython.core.interactiveshell import InteractiveShell\n",
    "InteractiveShell.ast_node_interactivity = \"all\"\n",
    "\n",
    "string ='DataScience'\n",
    "string\n",
    "\n",
    "print(\"Sci\" in string)\n",
    "print(\"Sci\" not in string)"
   ]
  },
  {
   "cell_type": "code",
   "execution_count": 5,
   "metadata": {},
   "outputs": [
    {
     "name": "stdout",
     "output_type": "stream",
     "text": [
      "True\n"
     ]
    }
   ],
   "source": [
    "lst = [1,2,3,4]\n",
    "print(1 in lst)"
   ]
  },
  {
   "cell_type": "markdown",
   "metadata": {},
   "source": [
    "### Python if..else statement"
   ]
  },
  {
   "cell_type": "markdown",
   "metadata": {},
   "source": [
    "The if..elsif..else is use din Python for decision making\n",
    "\n",
    "\"if\" is a conditional statement that executes some specified code after checking if its expression is True."
   ]
  },
  {
   "cell_type": "markdown",
   "metadata": {},
   "source": [
    "### if statement syntax"
   ]
  },
  {
   "cell_type": "markdown",
   "metadata": {},
   "source": [
    "if test expression:\n",
    "\n",
    "            statement(s)\n",
    "\n",
    "The program evaluates the test expression and will execute statements only if the test expressionis true.\n",
    "If the test expression is `False, the statement is not executed.`\n",
    "\n",
    "- Python interprets non-zero values as TRUE. None and 0 are interpreted as False"
   ]
  },
  {
   "cell_type": "markdown",
   "metadata": {},
   "source": [
    "if condition:\n",
    "\n",
    "        statement(s)\n",
    "        \n",
    "else:\n",
    "   \n",
    "        statement(s)\n",
    "        \n",
    "### Important points to be noted\n",
    "\n",
    "- colon\n",
    "- indentation"
   ]
  },
  {
   "cell_type": "code",
   "execution_count": 6,
   "metadata": {},
   "outputs": [],
   "source": [
    "if 8>9 : # condition\n",
    "    print(\" Eight is greater than 9\")#statement"
   ]
  },
  {
   "cell_type": "code",
   "execution_count": 2,
   "metadata": {},
   "outputs": [
    {
     "name": "stdout",
     "output_type": "stream",
     "text": [
      "40 is greater than 10\n"
     ]
    }
   ],
   "source": [
    "if 10<40:\n",
    "    print(\"40 is greater than 10\")\n",
    "else:\n",
    "    print(\"10 is greater than 40\")"
   ]
  },
  {
   "cell_type": "code",
   "execution_count": 7,
   "metadata": {},
   "outputs": [
    {
     "name": "stdout",
     "output_type": "stream",
     "text": [
      " Hello I am if\n"
     ]
    }
   ],
   "source": [
    "answer = \"Left\" # = assignment operator\n",
    "\n",
    "if answer == \"Left\": # == is comparison\n",
    "    print(\" Hello I am if\")\n",
    "else:\n",
    "    print(\" Hello I am else\")"
   ]
  },
  {
   "cell_type": "code",
   "execution_count": 8,
   "metadata": {},
   "outputs": [
    {
     "name": "stdout",
     "output_type": "stream",
     "text": [
      " Hello I am else\n"
     ]
    }
   ],
   "source": [
    "answer = \"Right\"\n",
    "\n",
    "if answer == \"Left\":\n",
    "    print(\" Hello I am if\")\n",
    "else:\n",
    "    print(\" Hello I am else\")"
   ]
  },
  {
   "cell_type": "markdown",
   "metadata": {},
   "source": [
    "### More Examples\n",
    "\n",
    "- print positive number and negative number"
   ]
  },
  {
   "cell_type": "code",
   "execution_count": 9,
   "metadata": {},
   "outputs": [
    {
     "name": "stdout",
     "output_type": "stream",
     "text": [
      "positive number\n"
     ]
    }
   ],
   "source": [
    "num = 10\n",
    "if num >= 0:\n",
    "    print(\"positive number\")\n",
    "else:\n",
    "    print(\"negative number\")"
   ]
  },
  {
   "cell_type": "markdown",
   "metadata": {},
   "source": [
    "### using input ( )"
   ]
  },
  {
   "cell_type": "code",
   "execution_count": 11,
   "metadata": {},
   "outputs": [
    {
     "name": "stdout",
     "output_type": "stream",
     "text": [
      "Enter the number: 68\n",
      "positive number\n"
     ]
    }
   ],
   "source": [
    "num = int(input(\"Enter the number: \"))\n",
    "if num >= 0:\n",
    "    print(\"positive number\")\n",
    "else:\n",
    "    print(\"negative number\")"
   ]
  },
  {
   "cell_type": "code",
   "execution_count": 18,
   "metadata": {},
   "outputs": [
    {
     "name": "stdout",
     "output_type": "stream",
     "text": [
      "enter your name -7\n",
      "you entered a negative number\n"
     ]
    }
   ],
   "source": [
    "value = int(input(\"enter your name \"))\n",
    "if value >= 0:\n",
    "    print(\"you entered a postitive number\")\n",
    "else: \n",
    "    print (\"you entered a negative number\")"
   ]
  },
  {
   "cell_type": "markdown",
   "metadata": {},
   "source": [
    "### using list"
   ]
  },
  {
   "cell_type": "code",
   "execution_count": 19,
   "metadata": {},
   "outputs": [],
   "source": [
    "list1 = ['a','b','c']\n",
    "\n",
    "list2 = ['abc','def','d','hello']"
   ]
  },
  {
   "cell_type": "markdown",
   "metadata": {},
   "source": [
    "### using membership test\n",
    "\n",
    "- `in and not in`"
   ]
  },
  {
   "cell_type": "code",
   "execution_count": 20,
   "metadata": {},
   "outputs": [
    {
     "name": "stdout",
     "output_type": "stream",
     "text": [
      "inside else\n"
     ]
    }
   ],
   "source": [
    "if 'c' in list2:\n",
    "    print(\"great\")\n",
    "else:\n",
    "    print(\"inside else\")"
   ]
  },
  {
   "cell_type": "code",
   "execution_count": 21,
   "metadata": {},
   "outputs": [
    {
     "name": "stdout",
     "output_type": "stream",
     "text": [
      "inside else\n"
     ]
    }
   ],
   "source": [
    "if 'c' not in list1:\n",
    "    print(\"great\")\n",
    "else:\n",
    "    print(\"inside else\")"
   ]
  },
  {
   "cell_type": "code",
   "execution_count": 24,
   "metadata": {},
   "outputs": [
    {
     "name": "stdout",
     "output_type": "stream",
     "text": [
      "Enter the number:6\n",
      "no\n"
     ]
    }
   ],
   "source": [
    "num = int(input(\"Enter the number:\"))\n",
    "\n",
    "if num%5 ==0 :\n",
    "    print(\"yes\")\n",
    "else:\n",
    "    print(\"no\")"
   ]
  },
  {
   "cell_type": "code",
   "execution_count": 29,
   "metadata": {},
   "outputs": [
    {
     "name": "stdout",
     "output_type": "stream",
     "text": [
      "Enter the number: -6\n",
      "negative value\n"
     ]
    }
   ],
   "source": [
    "num = int(input(\"Enter the number: \"))\n",
    "\n",
    "if num >=0:\n",
    "    if num >0:\n",
    "        print (\"positive number\")\n",
    "    else: \n",
    "        print(\"zero\")\n",
    "else:\n",
    "    print (\"negative value\")"
   ]
  },
  {
   "cell_type": "markdown",
   "metadata": {},
   "source": [
    "### Nested if statements"
   ]
  },
  {
   "cell_type": "code",
   "execution_count": 16,
   "metadata": {},
   "outputs": [
    {
     "name": "stdout",
     "output_type": "stream",
     "text": [
      "Enter the number: 64\n",
      "positive number\n"
     ]
    }
   ],
   "source": [
    "num = int(input(\"Enter the number: \"))\n",
    "\n",
    "if num >=0:\n",
    "    \n",
    "    if num == 0:\n",
    "        print(\"zero\")\n",
    "    else:\n",
    "        print(\"positive number\")\n",
    "    \n",
    "else:\n",
    "    print(\"negative number\")"
   ]
  },
  {
   "cell_type": "code",
   "execution_count": 17,
   "metadata": {},
   "outputs": [
    {
     "name": "stdout",
     "output_type": "stream",
     "text": [
      "enter player type: runner\n",
      "enter number of hundreds: 6\n",
      "enter city: BLR\n",
      "need a batsman\n"
     ]
    }
   ],
   "source": [
    "location = [\"Hyd\",\"BLR\",\"Mumbai\"]\n",
    "player_type = input(\"enter player type: \")\n",
    "No_of_hundreds = int(input(\"enter number of hundreds: \"))\n",
    "player_loc = input(\"enter city: \")\n",
    "\n",
    "if player_loc in location:\n",
    "    if player_type.lower() == 'batsman':\n",
    "        if No_of_hundreds >= 5:\n",
    "            print(\"in the squad\")\n",
    "        else:\n",
    "            print(\"not selected\")\n",
    "    else:\n",
    "        print(\"need a batsman\")\n",
    "    \n",
    "else:\n",
    "    print(\"not on list\")"
   ]
  },
  {
   "cell_type": "markdown",
   "metadata": {},
   "source": [
    "### if , elif and else"
   ]
  },
  {
   "cell_type": "code",
   "execution_count": 30,
   "metadata": {},
   "outputs": [
    {
     "name": "stdout",
     "output_type": "stream",
     "text": [
      " Enter the number4\n",
      "positive number\n"
     ]
    }
   ],
   "source": [
    "#prog if a particular number is postive negative or zero\n",
    "\n",
    "num = int(input(\" Enter the number\"))\n",
    "\n",
    "if num > 0:\n",
    "    print(\"positive number\")\n",
    "elif num ==0:\n",
    "    print(\"zero\")\n",
    "else:\n",
    "    print(\"negative number\")"
   ]
  },
  {
   "cell_type": "code",
   "execution_count": 5,
   "metadata": {},
   "outputs": [
    {
     "name": "stdout",
     "output_type": "stream",
     "text": [
      "write your name 43\n"
     ]
    }
   ],
   "source": [
    "a = input(\"write your name \")"
   ]
  },
  {
   "cell_type": "code",
   "execution_count": 7,
   "metadata": {},
   "outputs": [
    {
     "name": "stdout",
     "output_type": "stream",
     "text": [
      "Enter the percentage: 94\n",
      " Grade A\n"
     ]
    }
   ],
   "source": [
    "#write a prog to find the grade of a person\n",
    "\n",
    "a = int(input(\"Enter the percentage: \"))\n",
    "\n",
    "if a >=90:\n",
    "    print(\" Grade A\")\n",
    "    \n",
    "elif a >= 80 &  a<90:\n",
    "    print(\" Grade B\")\n",
    "    \n",
    "elif a >= 70 & a<80:\n",
    "    print(\" Grade C\")\n",
    "    \n",
    "elif a >=60 & a<70:\n",
    "    print(\" Grade D\")\n",
    "    \n",
    "elif a >= 40 & a <60:\n",
    "    print(\" Grade E\")\n",
    "    \n",
    "else:\n",
    "    print(\"FAIL\")"
   ]
  },
  {
   "cell_type": "markdown",
   "metadata": {},
   "source": [
    "### Python while loop"
   ]
  },
  {
   "cell_type": "markdown",
   "metadata": {},
   "source": [
    "The while loop in Python is used to iterate over a block of code as long as the test expression (condiiton)is true\n",
    "\n",
    "### Syntax:\n",
    "\n",
    "    while text_expression:\n",
    "    \n",
    "        body of while\n",
    "        \n",
    " The body of the loop is entered only if the test_expression evaluates to True.\n",
    "  \n",
    " After one iteration, the etst expression is checked again\n",
    " \n",
    " This process continues until the test_expression evaluates to False."
   ]
  },
  {
   "cell_type": "markdown",
   "metadata": {},
   "source": [
    "### Example"
   ]
  },
  {
   "cell_type": "code",
   "execution_count": 20,
   "metadata": {},
   "outputs": [
    {
     "name": "stdout",
     "output_type": "stream",
     "text": [
      "I am a loop\n"
     ]
    }
   ],
   "source": [
    "loop_condition = True\n",
    "\n",
    "while loop_condition:\n",
    "    print(\"I am a loop\")\n",
    "    loop_condition = False"
   ]
  },
  {
   "cell_type": "code",
   "execution_count": 8,
   "metadata": {},
   "outputs": [
    {
     "name": "stdout",
     "output_type": "stream",
     "text": [
      "0\n",
      "1\n",
      "2\n",
      "3\n",
      "4\n",
      "5\n",
      "6\n"
     ]
    }
   ],
   "source": [
    "i=0\n",
    "\n",
    "while i<=6:\n",
    "    print(i)\n",
    "    i += 1"
   ]
  },
  {
   "cell_type": "code",
   "execution_count": 9,
   "metadata": {},
   "outputs": [
    {
     "name": "stdout",
     "output_type": "stream",
     "text": [
      "Hello I am if and my count is  0\n",
      "current count is: 1\n",
      "Hello I am while and count is  1\n",
      "Hello I am while and count is  2\n",
      "Hello I am while and count is  3\n",
      "Hello I am while and count is  4\n"
     ]
    }
   ],
   "source": [
    "i =0\n",
    "\n",
    "if i < 5:\n",
    "        print(\"Hello I am if and my count is \", i)\n",
    "        i += 1\n",
    "        print(\"current count is:\", i)\n",
    "        \n",
    "while i < 5:\n",
    "        print(\"Hello I am while and count is \", i)\n",
    "        i += 1 \n",
    "\n"
   ]
  },
  {
   "cell_type": "code",
   "execution_count": 23,
   "metadata": {},
   "outputs": [
    {
     "name": "stdout",
     "output_type": "stream",
     "text": [
      "0\n",
      "current count is 1 \n",
      "\n",
      "--------------------------------------------------\n",
      "1\n",
      "current count is 2 \n",
      "\n",
      "--------------------------------------------------\n",
      "2\n",
      "current count is 3 \n",
      "\n",
      "--------------------------------------------------\n",
      "3\n",
      "current count is 4 \n",
      "\n",
      "--------------------------------------------------\n",
      "4\n",
      "current count is 5 \n",
      "\n",
      "--------------------------------------------------\n",
      "5\n",
      "current count is 6 \n",
      "\n",
      "--------------------------------------------------\n",
      "6\n",
      "current count is 7 \n",
      "\n",
      "--------------------------------------------------\n",
      "7\n",
      "current count is 8 \n",
      "\n",
      "--------------------------------------------------\n",
      "8\n",
      "current count is 9 \n",
      "\n",
      "--------------------------------------------------\n",
      "9\n",
      "current count is 10 \n",
      "\n",
      "--------------------------------------------------\n"
     ]
    }
   ],
   "source": [
    "count = 0\n",
    "\n",
    "while True:\n",
    "        print(count)\n",
    "        count += 1\n",
    "        print(\"current count is\", count,'\\n')\n",
    "        print(\"-\"*50)\n",
    "        if count >=10:\n",
    "            break"
   ]
  }
 ],
 "metadata": {
  "kernelspec": {
   "display_name": "Python 3",
   "language": "python",
   "name": "python3"
  },
  "language_info": {
   "codemirror_mode": {
    "name": "ipython",
    "version": 3
   },
   "file_extension": ".py",
   "mimetype": "text/x-python",
   "name": "python",
   "nbconvert_exporter": "python",
   "pygments_lexer": "ipython3",
   "version": "3.8.5"
  }
 },
 "nbformat": 4,
 "nbformat_minor": 2
}
