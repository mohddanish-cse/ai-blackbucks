{
 "cells": [
  {
   "cell_type": "markdown",
   "metadata": {},
   "source": [
    "## Python for Loop\n",
    "\n",
    "The for loop in Python is used to iterate over a sequence (list,tuple,string)or other iterable objects. Iterating over a sequence is called traversal\n",
    "\n",
    "### Syntax:\n",
    "\n",
    "    for element in sequence:\n",
    "    \n",
    "            body of for\n",
    "            \n",
    " `Here, element is the variable that takes the value of the item inside the sequence on each iteration`\n",
    " \n",
    " `Loop continues until we reach the last item in sequence.`"
   ]
  },
  {
   "cell_type": "markdown",
   "metadata": {},
   "source": [
    "### Create a list from 0 to 100\n",
    "\n",
    "- Range\n",
    "\n",
    "### range( ) function\n",
    "\n",
    "- `We can generate a sequence of numbers using range() function. range(10) will generate numbers from 0 to 9 (10 numbs)`\n",
    "- `We can also define the start , stop and step size as **range(start,stop,step size)**. Step size defaults to 1 if not` \n",
    "   `provided`\n",
    "- `This fucntion doesnt store all values in memory, it would be ineficient. So it remembers the start, stop, step size and` \n",
    "   `generates the next numver on the go`"
   ]
  },
  {
   "cell_type": "code",
   "execution_count": 1,
   "metadata": {},
   "outputs": [],
   "source": []
  },
  {
   "cell_type": "code",
   "execution_count": 1,
   "metadata": {},
   "outputs": [
    {
     "data": {
      "text/plain": [
       "range(0, 10)"
      ]
     },
     "execution_count": 1,
     "metadata": {},
     "output_type": "execute_result"
    }
   ],
   "source": [
    "range(10)"
   ]
  },
  {
   "cell_type": "code",
   "execution_count": 5,
   "metadata": {},
   "outputs": [
    {
     "data": {
      "text/plain": [
       "[4, 6, 8, 10]"
      ]
     },
     "execution_count": 5,
     "metadata": {},
     "output_type": "execute_result"
    }
   ],
   "source": [
    "list1 = list(range(4,11,2))\n",
    "list1"
   ]
  },
  {
   "cell_type": "code",
   "execution_count": 4,
   "metadata": {},
   "outputs": [
    {
     "data": {
      "text/plain": [
       "[400, 420, 440, 460, 480]"
      ]
     },
     "execution_count": 4,
     "metadata": {},
     "output_type": "execute_result"
    }
   ],
   "source": [
    "#print range of  numbers from 400 to 500\n",
    "\n",
    "list1 = list(range(400,500,20))\n",
    "list1"
   ]
  },
  {
   "cell_type": "code",
   "execution_count": 3,
   "metadata": {},
   "outputs": [
    {
     "data": {
      "text/plain": [
       "[500, 490, 480, 470, 460, 450, 440, 430, 420, 410]"
      ]
     },
     "execution_count": 3,
     "metadata": {},
     "output_type": "execute_result"
    }
   ],
   "source": [
    "list1 = list(range(500,400,-10))\n",
    "list1"
   ]
  },
  {
   "cell_type": "code",
   "execution_count": 6,
   "metadata": {},
   "outputs": [
    {
     "name": "stdout",
     "output_type": "stream",
     "text": [
      "0\n",
      "1\n",
      "2\n",
      "3\n",
      "4\n",
      "5\n",
      "6\n",
      "7\n",
      "8\n",
      "9\n"
     ]
    }
   ],
   "source": [
    "#print range of 10\n",
    "for i in range(10):\n",
    "    print(i)"
   ]
  },
  {
   "cell_type": "code",
   "execution_count": 15,
   "metadata": {},
   "outputs": [
    {
     "name": "stdout",
     "output_type": "stream",
     "text": [
      "0\n",
      "1\n",
      "2\n",
      "3\n",
      "4\n",
      "5\n",
      "6\n",
      "7\n",
      "8\n",
      "9\n",
      "out of loop\n"
     ]
    }
   ],
   "source": [
    "#print range of 10\n",
    "for i in range(10):\n",
    "    \n",
    "    print(i)              #statement ( loop for if)\n",
    "    #print(\"Maq.ai\")\n",
    "    \n",
    "print(\"out of loop\") #out of loop"
   ]
  },
  {
   "cell_type": "code",
   "execution_count": 18,
   "metadata": {},
   "outputs": [
    {
     "name": "stdout",
     "output_type": "stream",
     "text": [
      "Maq.ai\n",
      "madhapur\n",
      "Data Science\n",
      "AI\n"
     ]
    }
   ],
   "source": [
    "lst =['Maq.ai', \"madhapur\", \"Data Science\", \"AI\"]\n",
    "\n",
    "for i in lst:\n",
    "    print(i)"
   ]
  },
  {
   "cell_type": "markdown",
   "metadata": {},
   "source": [
    "- iterate over the list using index\n",
    "- for index in range(len(lst)):\n",
    "- print(lst[index]) "
   ]
  },
  {
   "cell_type": "code",
   "execution_count": 19,
   "metadata": {},
   "outputs": [
    {
     "name": "stdout",
     "output_type": "stream",
     "text": [
      "Maq.ai\n",
      "madhapur\n",
      "Data Science\n",
      "AI\n"
     ]
    }
   ],
   "source": [
    "for index in range(len(lst)):\n",
    "    print(lst[index])"
   ]
  },
  {
   "cell_type": "code",
   "execution_count": 10,
   "metadata": {},
   "outputs": [
    {
     "name": "stdout",
     "output_type": "stream",
     "text": [
      "0 - Maq.ai\n",
      "1 - Madhapur\n",
      "2 - Data Science\n",
      "3 - AI\n"
     ]
    }
   ],
   "source": [
    "\n",
    "lst = ['Maq.ai', \"Madhapur\", \"Data Science\", \"AI\"]\n",
    "for i in range(len(lst)):\n",
    "    print(i,'-',lst[i])"
   ]
  },
  {
   "cell_type": "code",
   "execution_count": 11,
   "metadata": {},
   "outputs": [
    {
     "data": {
      "text/plain": [
       "range(0, 5)"
      ]
     },
     "execution_count": 11,
     "metadata": {},
     "output_type": "execute_result"
    }
   ],
   "source": [
    "range(len(lst))\n"
   ]
  },
  {
   "cell_type": "code",
   "execution_count": 12,
   "metadata": {},
   "outputs": [],
   "source": [
    "import random"
   ]
  },
  {
   "cell_type": "markdown",
   "metadata": {},
   "source": [
    "### Generate 10 random numbers in the range of 0 to 30"
   ]
  },
  {
   "cell_type": "code",
   "execution_count": 44,
   "metadata": {},
   "outputs": [
    {
     "name": "stdout",
     "output_type": "stream",
     "text": [
      "Initial list =  []\n",
      "\n",
      "\n",
      "Iter 0, list = [37] \n",
      "\n",
      "Iter 1, list = [37, 13] \n",
      "\n",
      "Iter 2, list = [37, 13, 32] \n",
      "\n",
      "Iter 3, list = [37, 13, 32, 8] \n",
      "\n",
      "Iter 4, list = [37, 13, 32, 8, 18] \n",
      "\n",
      "Iter 5, list = [37, 13, 32, 8, 18, 8] \n",
      "\n",
      "Iter 6, list = [37, 13, 32, 8, 18, 8, 6] \n",
      "\n",
      "Iter 7, list = [37, 13, 32, 8, 18, 8, 6, 39] \n",
      "\n",
      "Iter 8, list = [37, 13, 32, 8, 18, 8, 6, 39, 16] \n",
      "\n",
      "Iter 9, list = [37, 13, 32, 8, 18, 8, 6, 39, 16, 34] \n",
      "\n",
      "--------------------------------------------------\n",
      "AFter the loop= [37, 13, 32, 8, 18, 8, 6, 39, 16, 34]\n"
     ]
    }
   ],
   "source": [
    "randl = []\n",
    "import random\n",
    "#print(type(randl))\n",
    "\n",
    "print(\"Initial list = \",randl)\n",
    "print('\\n')\n",
    "\n",
    "for i in range(10):\n",
    "                   randl.append(random.randint(0,40))\n",
    "                   print('Iter {}, list = {}'.format(i,randl),'\\n')\n",
    "                   \n",
    "print('-'*50)                \n",
    "print('AFter the loop=', randl)                   "
   ]
  },
  {
   "cell_type": "markdown",
   "metadata": {},
   "source": [
    "### Filter out even and odd number but not zero in the list 'randl'"
   ]
  },
  {
   "cell_type": "code",
   "execution_count": 45,
   "metadata": {
    "scrolled": true
   },
   "outputs": [
    {
     "name": "stdout",
     "output_type": "stream",
     "text": [
      "Iter no = 0\n",
      "Found odd number\n",
      "Iter no = 1\n",
      "Found odd number\n",
      "Iter no = 2\n",
      "Found even number\n",
      "Iter no = 3\n",
      "Found even number\n",
      "Iter no = 4\n",
      "Found even number\n",
      "Iter no = 5\n",
      "Found even number\n",
      "Iter no = 6\n",
      "Found even number\n",
      "Iter no = 7\n",
      "Found odd number\n",
      "Iter no = 8\n",
      "Found even number\n",
      "Iter no = 9\n",
      "Found even number\n"
     ]
    }
   ],
   "source": [
    "even = []\n",
    "odd = []\n",
    "\n",
    "for i , value in enumerate(randl):\n",
    "    print('Iter no =',i)\n",
    "    \n",
    "    if value % 2 == 0 and value != 0:\n",
    "        print('Found even number')\n",
    "        even.append(value)\n",
    "        \n",
    "    elif value % 2 !=0 and value != 0:\n",
    "        print('Found odd number')\n",
    "        odd.append(value)"
   ]
  },
  {
   "cell_type": "code",
   "execution_count": 46,
   "metadata": {},
   "outputs": [
    {
     "name": "stdout",
     "output_type": "stream",
     "text": [
      "[32, 8, 18, 8, 6, 16, 34]\n",
      "[37, 13, 39]\n"
     ]
    }
   ],
   "source": [
    "print(even)\n",
    "print(odd)"
   ]
  },
  {
   "cell_type": "code",
   "execution_count": 47,
   "metadata": {},
   "outputs": [],
   "source": [
    "text = '''Python is a intrepreted high-level general-purpose programming language.\n",
    "First released in 1991, Python's design philosophy emphasizes code readability \n",
    "with its notable use of significant white space. Its language constructs and object oriented approach \n",
    "aims to help progrmmaers clear, [], . ss @ logical code for small and large scale projects'''\n"
   ]
  },
  {
   "cell_type": "markdown",
   "metadata": {},
   "source": [
    "### Find list of words\n",
    "\n",
    "- Start with 'e' in text\n",
    "- ends with 'e'\n",
    "- starts with 'd'"
   ]
  },
  {
   "cell_type": "code",
   "execution_count": 48,
   "metadata": {},
   "outputs": [
    {
     "name": "stdout",
     "output_type": "stream",
     "text": [
      "['python', 'is', 'a', 'intrepreted', 'high-level', 'general-purpose', 'programming', 'language.', 'first', 'released', 'in', '1991,', \"python's\", 'design', 'philosophy', 'emphasizes', 'code', 'readability', 'with', 'its', 'notable', 'use', 'of', 'significant', 'white', 'space.', 'its', 'language', 'constructs', 'and', 'object', 'oriented', 'approach', 'aims', 'to', 'help', 'progrmmaers', 'clear,', '[],', '.', 'ss', '@', 'logical', 'code', 'for', 'small', 'and', 'large', 'scale', 'projects']\n"
     ]
    }
   ],
   "source": [
    "#step -1:\n",
    "text = text.lower()\n",
    "tokens = text.split() # space is reference for split\n",
    "print(tokens)"
   ]
  },
  {
   "cell_type": "code",
   "execution_count": 18,
   "metadata": {},
   "outputs": [
    {
     "data": {
      "text/plain": [
       "['emphasizes']"
      ]
     },
     "execution_count": 18,
     "metadata": {},
     "output_type": "execute_result"
    }
   ],
   "source": [
    "starte = []\n",
    "for words in tokens:\n",
    "    if words.startswith('e'):\n",
    "        starte.append(words)\n",
    "        \n",
    "starte"
   ]
  },
  {
   "cell_type": "code",
   "execution_count": 19,
   "metadata": {},
   "outputs": [
    {
     "data": {
      "text/plain": [
       "['general-purpose',\n",
       " 'code',\n",
       " 'notable',\n",
       " 'use',\n",
       " 'white',\n",
       " 'language',\n",
       " 'code',\n",
       " 'large',\n",
       " 'scale']"
      ]
     },
     "execution_count": 19,
     "metadata": {},
     "output_type": "execute_result"
    }
   ],
   "source": [
    "ende = []\n",
    "for words in tokens:\n",
    "    if words.endswith('e'):\n",
    "        ende.append(words)\n",
    "        \n",
    "ende"
   ]
  },
  {
   "cell_type": "code",
   "execution_count": 20,
   "metadata": {},
   "outputs": [
    {
     "data": {
      "text/plain": [
       "['design']"
      ]
     },
     "execution_count": 20,
     "metadata": {},
     "output_type": "execute_result"
    }
   ],
   "source": [
    "startd = []\n",
    "for words in tokens:\n",
    "    if words.startswith('d'):\n",
    "        startd.append(words)\n",
    "        \n",
    "startd"
   ]
  },
  {
   "cell_type": "code",
   "execution_count": 21,
   "metadata": {},
   "outputs": [
    {
     "data": {
      "text/plain": [
       "['python',\n",
       " 'is',\n",
       " 'a',\n",
       " 'intrepreted',\n",
       " 'high-level',\n",
       " 'general-purpose',\n",
       " 'programming',\n",
       " 'language.',\n",
       " 'first',\n",
       " 'released',\n",
       " 'in',\n",
       " '1991,',\n",
       " \"python's\",\n",
       " 'design',\n",
       " 'philosophy',\n",
       " 'emphasizes',\n",
       " 'code',\n",
       " 'readability',\n",
       " 'with',\n",
       " 'its',\n",
       " 'notable',\n",
       " 'use',\n",
       " 'of',\n",
       " 'significant',\n",
       " 'white',\n",
       " 'space.',\n",
       " 'its',\n",
       " 'language',\n",
       " 'constructs',\n",
       " 'and',\n",
       " 'object',\n",
       " 'oriented',\n",
       " 'approach',\n",
       " 'aims',\n",
       " 'to',\n",
       " 'help',\n",
       " 'progrmmaers',\n",
       " 'clear,',\n",
       " '[],',\n",
       " '.',\n",
       " 'ss',\n",
       " '@',\n",
       " 'logical',\n",
       " 'code',\n",
       " 'for',\n",
       " 'small',\n",
       " 'and',\n",
       " 'large',\n",
       " 'scale',\n",
       " 'projects']"
      ]
     },
     "execution_count": 21,
     "metadata": {},
     "output_type": "execute_result"
    }
   ],
   "source": [
    "tokens"
   ]
  },
  {
   "cell_type": "code",
   "execution_count": 49,
   "metadata": {},
   "outputs": [
    {
     "name": "stdout",
     "output_type": "stream",
     "text": [
      "python\n",
      "is\n",
      "a\n",
      "intrepreted\n",
      "high-level\n",
      "general-purpose\n",
      "programming\n",
      "language.\n",
      "first\n",
      "released\n",
      "in\n"
     ]
    }
   ],
   "source": [
    "for words in tokens:\n",
    "    print(words)\n",
    "    if words == 'in':\n",
    "        break"
   ]
  },
  {
   "cell_type": "markdown",
   "metadata": {},
   "source": [
    "### Using dictionary"
   ]
  },
  {
   "cell_type": "code",
   "execution_count": 23,
   "metadata": {},
   "outputs": [
    {
     "name": "stdout",
     "output_type": "stream",
     "text": [
      "Got key apples which maps to value 430\n",
      "Got key bananas which maps to value 312\n",
      "Got key oranges which maps to value 525\n",
      "Got key pears which maps to value 217\n",
      "['apples', 'bananas', 'oranges', 'pears']\n"
     ]
    }
   ],
   "source": [
    "#using dictionary\n",
    "\n",
    "inventory ={'apples':430,'bananas':312,'oranges':525,'pears':217}\n",
    "\n",
    "for akey in inventory.keys():  #the order in which we get the keys is not defined \n",
    "    print(\"Got key\",akey, \"which maps to value\",inventory[akey])\n",
    "    \n",
    "ks = list(inventory.keys())\n",
    "print(ks)"
   ]
  },
  {
   "cell_type": "code",
   "execution_count": 24,
   "metadata": {},
   "outputs": [
    {
     "name": "stdout",
     "output_type": "stream",
     "text": [
      "[430, 312, 525, 217]\n",
      "[('apples', 430), ('bananas', 312), ('oranges', 525), ('pears', 217)]\n",
      "Got apples that maps to 430\n",
      "Got bananas that maps to 312\n",
      "Got oranges that maps to 525\n",
      "Got pears that maps to 217\n",
      "Got apples that maps to 430\n",
      "Got bananas that maps to 312\n",
      "Got oranges that maps to 525\n",
      "Got pears that maps to 217\n"
     ]
    }
   ],
   "source": [
    "inventory = {'apples':430,'bananas':312,'oranges':525,'pears':217}\n",
    "\n",
    "print(list(inventory.values()))\n",
    "print(list(inventory.items()))\n",
    "\n",
    "for (k,v) in inventory.items():\n",
    "    print(\"Got\",k,\"that maps to\",v)\n",
    "    \n",
    "for k in inventory:\n",
    "    print(\"Got\",k,\"that maps to\",inventory[k])"
   ]
  }
 ],
 "metadata": {
  "kernelspec": {
   "display_name": "Python 3",
   "language": "python",
   "name": "python3"
  },
  "language_info": {
   "codemirror_mode": {
    "name": "ipython",
    "version": 3
   },
   "file_extension": ".py",
   "mimetype": "text/x-python",
   "name": "python",
   "nbconvert_exporter": "python",
   "pygments_lexer": "ipython3",
   "version": "3.8.5"
  }
 },
 "nbformat": 4,
 "nbformat_minor": 2
}
