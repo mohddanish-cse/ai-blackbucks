{
  "nbformat": 4,
  "nbformat_minor": 0,
  "metadata": {
    "colab": {
      "name": "ai.ipynb",
      "provenance": [],
      "authorship_tag": "ABX9TyOvvVdD4Dl0WI/7RQ0QkzYh",
      "include_colab_link": true
    },
    "kernelspec": {
      "name": "python3",
      "display_name": "Python 3"
    },
    "language_info": {
      "name": "python"
    }
  },
  "cells": [
    {
      "cell_type": "markdown",
      "metadata": {
        "id": "view-in-github",
        "colab_type": "text"
      },
      "source": [
        "<a href=\"https://colab.research.google.com/github/mohddanish-cse/ai-blackbucks/blob/main/ai.ipynb\" target=\"_parent\"><img src=\"https://colab.research.google.com/assets/colab-badge.svg\" alt=\"Open In Colab\"/></a>"
      ]
    },
    {
      "cell_type": "markdown",
      "metadata": {
        "id": "s988rZwX-PUW"
      },
      "source": [
        "##Day1\n"
      ]
    },
    {
      "cell_type": "code",
      "metadata": {
        "id": "XHC1kT4GbHRg"
      },
      "source": [
        "x=3\n",
        "y=4\n",
        "\n",
        "z=x+y"
      ],
      "execution_count": null,
      "outputs": []
    },
    {
      "cell_type": "code",
      "metadata": {
        "colab": {
          "base_uri": "https://localhost:8080/"
        },
        "id": "pohnYzCJbMuN",
        "outputId": "9c0d8b22-a7f2-45fd-fab0-b897c83474a8"
      },
      "source": [
        "z"
      ],
      "execution_count": null,
      "outputs": [
        {
          "output_type": "execute_result",
          "data": {
            "text/plain": [
              "7"
            ]
          },
          "metadata": {
            "tags": []
          },
          "execution_count": 10
        }
      ]
    },
    {
      "cell_type": "code",
      "metadata": {
        "id": "4DBBYppjbfzP",
        "colab": {
          "base_uri": "https://localhost:8080/"
        },
        "outputId": "62805f50-114e-4e31-8ecc-6374b9d69dd7"
      },
      "source": [
        "type(z)"
      ],
      "execution_count": null,
      "outputs": [
        {
          "output_type": "execute_result",
          "data": {
            "text/plain": [
              "int"
            ]
          },
          "metadata": {
            "tags": []
          },
          "execution_count": 11
        }
      ]
    },
    {
      "cell_type": "code",
      "metadata": {
        "id": "h4p6WPzYbhhZ",
        "colab": {
          "base_uri": "https://localhost:8080/"
        },
        "outputId": "5a3e7621-c8cb-48f8-8839-bee654f56b00"
      },
      "source": [
        "type(print(z))"
      ],
      "execution_count": null,
      "outputs": [
        {
          "output_type": "stream",
          "text": [
            "7\n"
          ],
          "name": "stdout"
        },
        {
          "output_type": "execute_result",
          "data": {
            "text/plain": [
              "NoneType"
            ]
          },
          "metadata": {
            "tags": []
          },
          "execution_count": 12
        }
      ]
    },
    {
      "cell_type": "code",
      "metadata": {
        "id": "jslGhajY3u7o"
      },
      "source": [
        "def addth(a=2,b=5):\n",
        "  return a+b\n",
        "\n"
      ],
      "execution_count": null,
      "outputs": []
    },
    {
      "cell_type": "code",
      "metadata": {
        "colab": {
          "base_uri": "https://localhost:8080/"
        },
        "id": "S9JBh9qr-p4v",
        "outputId": "6301e817-0179-49f4-870a-c935134d0cb0"
      },
      "source": [
        "addth()"
      ],
      "execution_count": null,
      "outputs": [
        {
          "output_type": "execute_result",
          "data": {
            "text/plain": [
              "7"
            ]
          },
          "metadata": {
            "tags": []
          },
          "execution_count": 6
        }
      ]
    },
    {
      "cell_type": "code",
      "metadata": {
        "id": "VIoLwzCPVBUQ"
      },
      "source": [
        "from IPython.core.interactiveshell import InteractiveShell\n",
        "InteractiveShell.ast_node_interactivity =\"all\""
      ],
      "execution_count": null,
      "outputs": []
    },
    {
      "cell_type": "code",
      "metadata": {
        "id": "qmGexsfoVR-s"
      },
      "source": [
        "test1='A B C D'\n",
        "test2= 'ABCD'"
      ],
      "execution_count": null,
      "outputs": []
    },
    {
      "cell_type": "code",
      "metadata": {
        "colab": {
          "base_uri": "https://localhost:8080/"
        },
        "id": "hP-XDqZzSLQV",
        "outputId": "d2acb9fe-5b13-4dba-f46d-f6de9b47b115"
      },
      "source": [
        "test1.split()"
      ],
      "execution_count": null,
      "outputs": [
        {
          "output_type": "execute_result",
          "data": {
            "text/plain": [
              "['A', 'B', 'C', 'D']"
            ]
          },
          "metadata": {
            "tags": []
          },
          "execution_count": 2
        }
      ]
    },
    {
      "cell_type": "code",
      "metadata": {
        "colab": {
          "base_uri": "https://localhost:8080/"
        },
        "id": "9nfPqMzISOOl",
        "outputId": "dd080825-4554-490c-bb96-282d950fc6e1"
      },
      "source": [
        "test2.split(sep='B')"
      ],
      "execution_count": null,
      "outputs": [
        {
          "output_type": "execute_result",
          "data": {
            "text/plain": [
              "['A', 'CD']"
            ]
          },
          "metadata": {
            "tags": []
          },
          "execution_count": 4
        }
      ]
    },
    {
      "cell_type": "code",
      "metadata": {
        "colab": {
          "base_uri": "https://localhost:8080/"
        },
        "id": "8wOSuqB9SWn7",
        "outputId": "eae2aebe-00a2-44de-a527-02559216000a"
      },
      "source": [
        "list(range(4,6))"
      ],
      "execution_count": null,
      "outputs": [
        {
          "output_type": "execute_result",
          "data": {
            "text/plain": [
              "[4, 5]"
            ]
          },
          "metadata": {
            "tags": []
          },
          "execution_count": 5
        }
      ]
    },
    {
      "cell_type": "code",
      "metadata": {
        "colab": {
          "base_uri": "https://localhost:8080/"
        },
        "id": "ObY3ZXeFWvZ5",
        "outputId": "a3c053dc-49c8-4b13-dcd3-f4cc44a92d1f"
      },
      "source": [
        "list(range(1,10,2))"
      ],
      "execution_count": null,
      "outputs": [
        {
          "output_type": "execute_result",
          "data": {
            "text/plain": [
              "[1, 3, 5, 7, 9]"
            ]
          },
          "metadata": {
            "tags": []
          },
          "execution_count": 6
        }
      ]
    },
    {
      "cell_type": "markdown",
      "metadata": {
        "id": "sVsgaecT-YUb"
      },
      "source": [
        "##Day2\n"
      ]
    },
    {
      "cell_type": "code",
      "metadata": {
        "id": "yZyDgI0pW1Xd"
      },
      "source": [
        "class myprofile():\n",
        "  def __init__(self,name,age,branch):\n",
        "    self.name=name\n",
        "    self.age=age\n",
        "    self.branch=branch\n"
      ],
      "execution_count": 1,
      "outputs": []
    },
    {
      "cell_type": "code",
      "metadata": {
        "id": "t08FKmPbvine"
      },
      "source": [
        "s1=myprofile(\"danish\",21,'cse')"
      ],
      "execution_count": 2,
      "outputs": []
    },
    {
      "cell_type": "code",
      "metadata": {
        "colab": {
          "base_uri": "https://localhost:8080/"
        },
        "id": "QfaND5VOvxll",
        "outputId": "1c84ecad-8828-4051-ef8a-4a825eeb19d6"
      },
      "source": [
        "s1\n"
      ],
      "execution_count": 3,
      "outputs": [
        {
          "output_type": "execute_result",
          "data": {
            "text/plain": [
              "<__main__.myprofile at 0x7f648d5c41d0>"
            ]
          },
          "metadata": {
            "tags": []
          },
          "execution_count": 3
        }
      ]
    },
    {
      "cell_type": "code",
      "metadata": {
        "colab": {
          "base_uri": "https://localhost:8080/",
          "height": 35
        },
        "id": "vG9fUZBivzDB",
        "outputId": "74a3dbd8-806d-45df-ba69-86257e1ffdc3"
      },
      "source": [
        "s1.name\n"
      ],
      "execution_count": 4,
      "outputs": [
        {
          "output_type": "execute_result",
          "data": {
            "application/vnd.google.colaboratory.intrinsic+json": {
              "type": "string"
            },
            "text/plain": [
              "'danish'"
            ]
          },
          "metadata": {
            "tags": []
          },
          "execution_count": 4
        }
      ]
    },
    {
      "cell_type": "code",
      "metadata": {
        "colab": {
          "base_uri": "https://localhost:8080/"
        },
        "id": "mYsK4zoMv1_a",
        "outputId": "047a081e-0a2b-449c-9f20-2f69bd2c9df2"
      },
      "source": [
        "s1.age"
      ],
      "execution_count": 5,
      "outputs": [
        {
          "output_type": "execute_result",
          "data": {
            "text/plain": [
              "21"
            ]
          },
          "metadata": {
            "tags": []
          },
          "execution_count": 5
        }
      ]
    },
    {
      "cell_type": "code",
      "metadata": {
        "colab": {
          "base_uri": "https://localhost:8080/",
          "height": 35
        },
        "id": "6O0unNZsv3os",
        "outputId": "a3ec970b-6377-4828-c7b7-01525c485125"
      },
      "source": [
        "s1.branch"
      ],
      "execution_count": 6,
      "outputs": [
        {
          "output_type": "execute_result",
          "data": {
            "application/vnd.google.colaboratory.intrinsic+json": {
              "type": "string"
            },
            "text/plain": [
              "'cse'"
            ]
          },
          "metadata": {
            "tags": []
          },
          "execution_count": 6
        }
      ]
    },
    {
      "cell_type": "code",
      "metadata": {
        "id": "Asr4wRQCv6Fh"
      },
      "source": [
        "class myprofile2:\n",
        "  def __init__(self,name,age,branch):\n",
        "    self.name=name\n",
        "    self.age=age\n",
        "    self.branch=branch\n",
        "  def myfunc(self):\n",
        "    print(\"Name: \"+self.name)\n",
        "\n"
      ],
      "execution_count": 13,
      "outputs": []
    },
    {
      "cell_type": "code",
      "metadata": {
        "id": "w-XH8m00x3jG"
      },
      "source": [
        "s2=myprofile2('a',21,'cse')"
      ],
      "execution_count": 14,
      "outputs": []
    },
    {
      "cell_type": "code",
      "metadata": {
        "colab": {
          "base_uri": "https://localhost:8080/"
        },
        "id": "5fJ3_e42x9LZ",
        "outputId": "85cb3b91-dee8-48c4-b4fc-4a157e415535"
      },
      "source": [
        "s2.myfunc()"
      ],
      "execution_count": 12,
      "outputs": [
        {
          "output_type": "stream",
          "text": [
            "Name: a\n"
          ],
          "name": "stdout"
        }
      ]
    },
    {
      "cell_type": "code",
      "metadata": {
        "id": "GMr_0gbL558a"
      },
      "source": [
        "import numpy"
      ],
      "execution_count": 16,
      "outputs": []
    },
    {
      "cell_type": "code",
      "metadata": {
        "colab": {
          "base_uri": "https://localhost:8080/"
        },
        "id": "O_T9d32s5_7m",
        "outputId": "7a262a1f-fee5-4e95-9fc0-e942f16c0aa8"
      },
      "source": [
        "numpy.version"
      ],
      "execution_count": 17,
      "outputs": [
        {
          "output_type": "execute_result",
          "data": {
            "text/plain": [
              "<module 'numpy.version' from '/usr/local/lib/python3.7/dist-packages/numpy/version.py'>"
            ]
          },
          "metadata": {
            "tags": []
          },
          "execution_count": 17
        }
      ]
    },
    {
      "cell_type": "code",
      "metadata": {
        "colab": {
          "base_uri": "https://localhost:8080/",
          "height": 35
        },
        "id": "HwvZwtn06Drq",
        "outputId": "ef88cbc0-1a28-4287-c26b-be608eed0588"
      },
      "source": [
        "numpy.version.version"
      ],
      "execution_count": 18,
      "outputs": [
        {
          "output_type": "execute_result",
          "data": {
            "application/vnd.google.colaboratory.intrinsic+json": {
              "type": "string"
            },
            "text/plain": [
              "'1.19.5'"
            ]
          },
          "metadata": {
            "tags": []
          },
          "execution_count": 18
        }
      ]
    },
    {
      "cell_type": "code",
      "metadata": {
        "id": "TuUieGeb6HTg"
      },
      "source": [
        ""
      ],
      "execution_count": null,
      "outputs": []
    }
  ]
}