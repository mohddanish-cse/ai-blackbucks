{
 "cells": [
  {
   "cell_type": "markdown",
   "metadata": {},
   "source": [
    "# NumPy : Numerical Python"
   ]
  },
  {
   "cell_type": "code",
   "execution_count": null,
   "metadata": {},
   "outputs": [],
   "source": [
    "#See the value of multiple statements at once\n",
    "#output for all commands in python jupyter notebook\n",
    "\n",
    "from IPython.core.interactiveshell import InteractiveShell\n",
    "InteractiveShell.ast_node_interactivity = \"all\""
   ]
  },
  {
   "cell_type": "markdown",
   "metadata": {},
   "source": [
    "### Numpy Array\n",
    "\n",
    "**NumPy**\n",
    "\n"
   ]
  },
  {
   "cell_type": "markdown",
   "metadata": {},
   "source": [
    "Data Analysis + stats = data analyst | data analysis + machine learning = data scientist "
   ]
  },
  {
   "cell_type": "markdown",
   "metadata": {},
   "source": [
    "- Numpy is a Python package which stands for 'Numerical Python'\n",
    "- It is the core library for scientific computation , which contains a powerful n-dimensional array object.\n",
    "- It is also useful in linear algebra, random number capability etc."
   ]
  },
  {
   "cell_type": "markdown",
   "metadata": {},
   "source": [
    "**Numpy Array**"
   ]
  },
  {
   "cell_type": "markdown",
   "metadata": {},
   "source": [
    "- NumPy Array is a powerful n-dimensional array object which is in the form of rows and columns\n",
    "- We can initialize numpy arrays from nested python lists and access its elements\n",
    "- Numpy array can also be used as an efficient multi dimensional container for generic data\n"
   ]
  },
  {
   "cell_type": "markdown",
   "metadata": {},
   "source": [
    "### Using Numpy\n",
    "\n",
    "_Installing Numpy :_\n",
    "\n",
    "```python\n",
    "conda install numpy\n",
    "pip install numpy```\n",
    "\n",
    "_Loading numpy:_\n",
    "    \n",
    "```python\n",
    "import numpy as np```\n",
    "\n",
    "_Check the version of Numpy:_\n",
    "\n",
    "```python\n",
    "print(np.version.version)\n",
    "print(np.__version__)``` \n",
    "\n",
    "\n"
   ]
  },
  {
   "cell_type": "code",
   "execution_count": null,
   "metadata": {
    "scrolled": false
   },
   "outputs": [],
   "source": [
    "import numpy as np\n",
    "print(np.version.version)"
   ]
  },
  {
   "cell_type": "code",
   "execution_count": null,
   "metadata": {},
   "outputs": [],
   "source": [
    "#__ is dunder method property"
   ]
  },
  {
   "cell_type": "markdown",
   "metadata": {},
   "source": [
    "1D = shape:(column,)\n",
    "2D = shape:(row,column)\n",
    "3D = shape:(row,coumn,z)\n",
    "\n",
    "increase in dimension increases data almost by double. so  to deal with this prob we have PCA\n",
    "PCA: we use this technique to reduce the dimensions of the data"
   ]
  },
  {
   "cell_type": "markdown",
   "metadata": {},
   "source": [
    "- To create a Numpy array we need to pass sequence of elements "
   ]
  },
  {
   "cell_type": "code",
   "execution_count": null,
   "metadata": {},
   "outputs": [],
   "source": [
    "import numpy as np"
   ]
  },
  {
   "cell_type": "code",
   "execution_count": null,
   "metadata": {},
   "outputs": [],
   "source": [
    "array1d = np.array([1,2,3,4,5,6])\n",
    "array1d"
   ]
  },
  {
   "cell_type": "code",
   "execution_count": null,
   "metadata": {},
   "outputs": [],
   "source": [
    "type(array1d)"
   ]
  },
  {
   "cell_type": "code",
   "execution_count": null,
   "metadata": {},
   "outputs": [],
   "source": [
    "array2d = np.array( [ [1,2,3,4] , [5,6,7,8]  ]     )\n",
    "array2d"
   ]
  },
  {
   "cell_type": "code",
   "execution_count": null,
   "metadata": {},
   "outputs": [],
   "source": [
    "type(array2d)"
   ]
  },
  {
   "cell_type": "code",
   "execution_count": null,
   "metadata": {},
   "outputs": [],
   "source": [
    "array3d = np.array(  [[ [1,2,3] , [4,5,6]  ] ,[ [7,8,9] ,[10,11,12]  ] ]                   )\n",
    "array3d"
   ]
  },
  {
   "cell_type": "code",
   "execution_count": null,
   "metadata": {},
   "outputs": [],
   "source": [
    "type(array3d)"
   ]
  },
  {
   "cell_type": "code",
   "execution_count": null,
   "metadata": {},
   "outputs": [],
   "source": [
    "# import numpy\n",
    "import numpy as np\n",
    "\n",
    "#1-D array\n",
    "array1d = np.array([1,2,3,4,5,6])  #list : a package of elements comma seperated\n",
    "\n",
    "#2-D array\n",
    "array2d = np.array([[1,2,3],[4,5,6]]) #nested list: multiple lists comma seperated inside a list\n",
    "\n",
    "#3-D array\n",
    "array3d = np.array([ [[1,2,3],[4,5,6]],[[7,8,9],[10,11,12]] ])\n",
    "\n",
    "print(array1d)\n",
    "\n",
    "print(\"-\" *15,'\\n')\n",
    "print(array2d)\n",
    "\n",
    "print(\"-\" *15,'\\n')\n",
    "print(array3d)"
   ]
  },
  {
   "cell_type": "markdown",
   "metadata": {},
   "source": [
    "### Numpy array properties\n",
    "\n"
   ]
  },
  {
   "cell_type": "code",
   "execution_count": null,
   "metadata": {},
   "outputs": [],
   "source": [
    "array2d.shape # a tuple that specfies the number of elements for each dimension of teh array in the for of (m,n)\n",
    "\n",
    "array3d.ndim #determines the dimnesion of the array\n",
    "\n",
    "array2d.dtype #Every nd array has an associated data type(dtype object)\n",
    "\n",
    "array2d.size #total number of elements in the array\n",
    "\n",
    "array2d.nbytes #number of bytes used to store the data\n",
    "\n",
    "type(array2d) #python type\n",
    "\n",
    "len(array2d) # Note: len returns the length of the first dimension to be considered"
   ]
  },
  {
   "cell_type": "markdown",
   "metadata": {},
   "source": [
    "## Exercises"
   ]
  },
  {
   "cell_type": "code",
   "execution_count": null,
   "metadata": {},
   "outputs": [],
   "source": [
    "#create a list object\n",
    "#create an array object\n",
    "#square the list \n",
    "#square the array\n",
    "#divide list object by 3\n",
    "#divide array object by 3\n",
    "\n"
   ]
  },
  {
   "cell_type": "code",
   "execution_count": null,
   "metadata": {},
   "outputs": [],
   "source": [
    "arr3=np.array([(1,2,3),(4,5,6)])\n",
    "print(arr3, arr3.dtype)\n",
    "print(\"-\" *10)\n",
    "\n",
    "arr3=np.array([(1,2.0,3),(4,5,6)])\n",
    "print(arr3, arr3.dtype)\n",
    "print(\"-\" *10)\n",
    "\n",
    "arr3=np.array([(1,2,3),(4,'5',6)])\n",
    "print(arr3, arr3.dtype)\n",
    "print(\"-\" *10)\n",
    "\n",
    "\n"
   ]
  },
  {
   "cell_type": "code",
   "execution_count": null,
   "metadata": {},
   "outputs": [],
   "source": [
    "[1,2,3,4]/2\n",
    "\n"
   ]
  },
  {
   "cell_type": "code",
   "execution_count": null,
   "metadata": {},
   "outputs": [],
   "source": [
    "z = [1,2,3,4]"
   ]
  },
  {
   "cell_type": "code",
   "execution_count": null,
   "metadata": {},
   "outputs": [],
   "source": [
    "z_arr = np.array(z)"
   ]
  },
  {
   "cell_type": "code",
   "execution_count": null,
   "metadata": {},
   "outputs": [],
   "source": [
    "z_arr/2"
   ]
  },
  {
   "cell_type": "markdown",
   "metadata": {},
   "source": [
    "## Create a range of array"
   ]
  },
  {
   "cell_type": "code",
   "execution_count": null,
   "metadata": {},
   "outputs": [],
   "source": [
    "array1 = np.array(range(1,9))\n",
    "array1"
   ]
  },
  {
   "cell_type": "code",
   "execution_count": null,
   "metadata": {},
   "outputs": [],
   "source": [
    "range(4,12)"
   ]
  },
  {
   "cell_type": "code",
   "execution_count": null,
   "metadata": {},
   "outputs": [],
   "source": [
    "array = np.arange(1,9)\n",
    "array"
   ]
  },
  {
   "cell_type": "code",
   "execution_count": null,
   "metadata": {},
   "outputs": [],
   "source": [
    "array1.shape"
   ]
  },
  {
   "cell_type": "code",
   "execution_count": null,
   "metadata": {},
   "outputs": [],
   "source": [
    "array1.reshape(4,2)"
   ]
  },
  {
   "cell_type": "code",
   "execution_count": null,
   "metadata": {},
   "outputs": [],
   "source": [
    "array1.reshape(4,3)"
   ]
  },
  {
   "cell_type": "code",
   "execution_count": null,
   "metadata": {},
   "outputs": [],
   "source": [
    "array1.reshape(8,1)"
   ]
  },
  {
   "cell_type": "code",
   "execution_count": null,
   "metadata": {},
   "outputs": [],
   "source": [
    "np.arange(9)"
   ]
  },
  {
   "cell_type": "code",
   "execution_count": null,
   "metadata": {},
   "outputs": [],
   "source": [
    "np.arange(0,9,1)"
   ]
  },
  {
   "cell_type": "code",
   "execution_count": null,
   "metadata": {},
   "outputs": [],
   "source": [
    "np.arange(0,9,2)"
   ]
  },
  {
   "cell_type": "code",
   "execution_count": null,
   "metadata": {},
   "outputs": [],
   "source": [
    "np.arange(0,9,1).reshape(3,3)"
   ]
  },
  {
   "cell_type": "code",
   "execution_count": null,
   "metadata": {},
   "outputs": [],
   "source": [
    "np.arange(10,21,2).reshape(3,2)"
   ]
  },
  {
   "cell_type": "code",
   "execution_count": null,
   "metadata": {},
   "outputs": [],
   "source": [
    "np.arange(9).reshape(3,3)"
   ]
  },
  {
   "cell_type": "markdown",
   "metadata": {},
   "source": [
    "### Arrays with linspace( )"
   ]
  },
  {
   "cell_type": "markdown",
   "metadata": {},
   "source": [
    "the `linspace()` function generates an array with evenly spaced values between specified start, end values, using a specified number of elements"
   ]
  },
  {
   "cell_type": "markdown",
   "metadata": {},
   "source": [
    "#### Syntax\n",
    "\n",
    "np.linspace(Start, End, Number of elements)"
   ]
  },
  {
   "cell_type": "code",
   "execution_count": null,
   "metadata": {},
   "outputs": [],
   "source": [
    "np.linspace(1,2,3)\n",
    "\n",
    "np.linspace(10,14,5)\n",
    "\n",
    "np.linspace(10,14,6)\n",
    "\n",
    "np.linspace(10,20,5)"
   ]
  },
  {
   "cell_type": "markdown",
   "metadata": {},
   "source": [
    "### Zero array"
   ]
  },
  {
   "cell_type": "code",
   "execution_count": null,
   "metadata": {},
   "outputs": [],
   "source": [
    "np.zeros(5)\n",
    "\n",
    "np.zeros((3,2))"
   ]
  },
  {
   "cell_type": "markdown",
   "metadata": {},
   "source": [
    "### One array"
   ]
  },
  {
   "cell_type": "code",
   "execution_count": null,
   "metadata": {},
   "outputs": [],
   "source": [
    "np.ones(5)\n",
    "\n",
    "np.ones((5,2,3))"
   ]
  },
  {
   "cell_type": "markdown",
   "metadata": {},
   "source": [
    "### Full Array"
   ]
  },
  {
   "cell_type": "code",
   "execution_count": null,
   "metadata": {},
   "outputs": [],
   "source": [
    "np.full((3,2),4)\n",
    "\n",
    "np.full((5,4,1),4)\n",
    "\n",
    "np.full((4,3,2,3),1)"
   ]
  },
  {
   "cell_type": "markdown",
   "metadata": {},
   "source": [
    "### Diagonal Array"
   ]
  },
  {
   "cell_type": "code",
   "execution_count": null,
   "metadata": {},
   "outputs": [],
   "source": [
    "np.eye(6, k=0)\n",
    "\n",
    "np.eye(3, dtype = int)\n",
    "\n",
    "np.eye(6, dtype = int)\n",
    "\n",
    "np.eye(6, dtype = int, k=1)"
   ]
  },
  {
   "cell_type": "markdown",
   "metadata": {},
   "source": [
    "##  Joining and Stacking\n",
    "\n",
    "- Vertical stacking (row wise) using vstack()\n",
    "- Horizontal stacking (column wise) using hstack()\n",
    "- Depth wise stacking (along third axis) using dstack()\n",
    "- concatenate() function creates a new array by appending arrays after each other, along a given axis\n",
    "- append() function appends an element to an array and creates a new copy of the array"
   ]
  },
  {
   "cell_type": "code",
   "execution_count": null,
   "metadata": {},
   "outputs": [],
   "source": [
    "import numpy as np\n",
    "\n",
    "\n",
    "array_1 = np.arange(1,11,1).reshape(2,5)\n",
    "array_1\n",
    "\n",
    "print(\"-\"*30)\n",
    "\n",
    "array_2 = np.arange(12,22,1).reshape(2,5)\n",
    "array_2"
   ]
  },
  {
   "cell_type": "code",
   "execution_count": null,
   "metadata": {},
   "outputs": [],
   "source": [
    "array_vstack = np.vstack([array_1,array_2])\n",
    "array_vstack\n",
    "array_vstack.shape"
   ]
  },
  {
   "cell_type": "code",
   "execution_count": null,
   "metadata": {},
   "outputs": [],
   "source": [
    "array_hstack = np.hstack([array_1,array_2])\n",
    "array_hstack\n",
    "array_hstack.shape"
   ]
  },
  {
   "cell_type": "code",
   "execution_count": null,
   "metadata": {},
   "outputs": [],
   "source": [
    "array_dstack = np.dstack([array_1,array_2])\n",
    "array_dstack\n",
    "array_dstack.shape # two sets of 5x2 matrices"
   ]
  },
  {
   "cell_type": "code",
   "execution_count": null,
   "metadata": {},
   "outputs": [],
   "source": [
    "array_concatenate = np.concatenate([array_1,array_2])\n",
    "array_concatenate\n",
    "array_concatenate.shape # same as vstack"
   ]
  },
  {
   "cell_type": "code",
   "execution_count": null,
   "metadata": {},
   "outputs": [],
   "source": [
    "array_append = np.append(array_1,array_2)\n",
    "array_append\n",
    "array_append.shape"
   ]
  },
  {
   "cell_type": "code",
   "execution_count": null,
   "metadata": {},
   "outputs": [],
   "source": [
    "array_append = np.append(array_1,array_2,axis =1)\n",
    "array_append\n",
    "array_append.shape"
   ]
  },
  {
   "cell_type": "code",
   "execution_count": null,
   "metadata": {},
   "outputs": [],
   "source": [
    "array_append = np.append(array_1,array_2,axis = 0)\n",
    "array_append\n",
    "array_append.shape"
   ]
  },
  {
   "cell_type": "markdown",
   "metadata": {},
   "source": [
    "## Updating using where(  )\n",
    "\n",
    "- `where()` function is used to choose values from arrays depending on the value of a specific condition"
   ]
  },
  {
   "cell_type": "code",
   "execution_count": null,
   "metadata": {},
   "outputs": [],
   "source": [
    "print(np.where(array_1 > 54, array_1+10, array_1 -10))"
   ]
  },
  {
   "cell_type": "code",
   "execution_count": null,
   "metadata": {},
   "outputs": [],
   "source": [
    "new_array = np.where(array_1 > 54, array_1+10, array_1 -10)\n",
    "print(new_array)"
   ]
  },
  {
   "cell_type": "code",
   "execution_count": null,
   "metadata": {},
   "outputs": [],
   "source": [
    "new_array = np.where(array_1 < 54, array_1+10, array_1 -10)\n",
    "print(new_array)"
   ]
  },
  {
   "cell_type": "code",
   "execution_count": null,
   "metadata": {},
   "outputs": [],
   "source": [
    "new_array = np.where(array_1 > 54, array_1/10, array_1 -10)\n",
    "print(new_array)"
   ]
  },
  {
   "cell_type": "code",
   "execution_count": null,
   "metadata": {},
   "outputs": [],
   "source": [
    "new_array = np.where(array_1 < 54, array_1/10, array_1 *10)\n",
    "print(new_array)"
   ]
  },
  {
   "cell_type": "code",
   "execution_count": null,
   "metadata": {},
   "outputs": [],
   "source": [
    "array_a = np.arange(1,4,1)\n",
    "array_a\n",
    "array_b = np.arange(4,7,1)\n",
    "array_b"
   ]
  },
  {
   "cell_type": "code",
   "execution_count": null,
   "metadata": {},
   "outputs": [],
   "source": [
    "array_a + array_b\n",
    "\n",
    "array_a - array_b\n",
    "\n",
    "array_a * array_b\n",
    "\n",
    "array_a / array_b\n",
    "\n",
    "array_a ** array_b"
   ]
  },
  {
   "cell_type": "markdown",
   "metadata": {},
   "source": [
    "## Elementwise matehmatical operations"
   ]
  },
  {
   "cell_type": "code",
   "execution_count": null,
   "metadata": {},
   "outputs": [],
   "source": [
    "# floor() method in python returns floor of x i.e the largest integer\n",
    "print(np.floor(3.14344))\n",
    "print(np.floor(-3.14344))"
   ]
  },
  {
   "cell_type": "code",
   "execution_count": null,
   "metadata": {},
   "outputs": [],
   "source": [
    "# ceil()  method in python returns ceiling value of x i.e the samller interger\n",
    "print(np.ceil(3.14344))\n",
    "print(np.ceil(-3.14344))"
   ]
  },
  {
   "cell_type": "code",
   "execution_count": null,
   "metadata": {},
   "outputs": [],
   "source": [
    "arr= np.random.rand(25)\n",
    "arr"
   ]
  },
  {
   "cell_type": "code",
   "execution_count": null,
   "metadata": {},
   "outputs": [],
   "source": [
    "np.random.rand(10)  #= > 0,1\n",
    "np.random.randn(10)  # => -3,3\n",
    "np.random.randint(2,10, size =(5,5) ) # integers"
   ]
  },
  {
   "cell_type": "code",
   "execution_count": null,
   "metadata": {},
   "outputs": [],
   "source": [
    "arr= np.random.rand(25).reshape(5,5)\n",
    "arr\n"
   ]
  },
  {
   "cell_type": "code",
   "execution_count": null,
   "metadata": {},
   "outputs": [],
   "source": [
    "arr= np.random.randn(25).reshape(5,5)\n",
    "arr"
   ]
  },
  {
   "cell_type": "code",
   "execution_count": null,
   "metadata": {},
   "outputs": [],
   "source": [
    "arr= np.random.randint(2,10, size =(5,5) )  # 25 random numbers between 2 and 10 in a 5x5 matrix\n",
    "arr"
   ]
  },
  {
   "cell_type": "code",
   "execution_count": null,
   "metadata": {},
   "outputs": [],
   "source": [
    "np.linspace(10,20,5)  # numbers 10 to 20 evenly spaced by 5 parts"
   ]
  }
 ],
 "metadata": {
  "kernelspec": {
   "display_name": "Python 3",
   "language": "python",
   "name": "python3"
  },
  "language_info": {
   "codemirror_mode": {
    "name": "ipython",
    "version": 3
   },
   "file_extension": ".py",
   "mimetype": "text/x-python",
   "name": "python",
   "nbconvert_exporter": "python",
   "pygments_lexer": "ipython3",
   "version": "3.7.7"
  }
 },
 "nbformat": 4,
 "nbformat_minor": 2
}
