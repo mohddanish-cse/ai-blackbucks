{
 "cells": [
  {
   "cell_type": "code",
   "execution_count": 1,
   "metadata": {},
   "outputs": [],
   "source": [
    "from IPython.core.interactiveshell import InteractiveShell\n",
    "InteractiveShell.ast_node_interactivity = \"all\""
   ]
  },
  {
   "cell_type": "code",
   "execution_count": 1,
   "metadata": {
    "scrolled": true
   },
   "outputs": [
    {
     "name": "stdout",
     "output_type": "stream",
     "text": [
      "Hello World. me\n"
     ]
    }
   ],
   "source": [
    "def greet():\n",
    "    print(\"Hello World. me\")\n",
    "      \n",
    "greet()"
   ]
  },
  {
   "cell_type": "code",
   "execution_count": 3,
   "metadata": {
    "scrolled": true
   },
   "outputs": [
    {
     "name": "stdout",
     "output_type": "stream",
     "text": [
      "Hello Shirisha\n"
     ]
    }
   ],
   "source": [
    "def greet(user):\n",
    "    print(\"Hello\", user)\n",
    "    \n",
    "greet('Shirisha')"
   ]
  },
  {
   "cell_type": "code",
   "execution_count": 4,
   "metadata": {},
   "outputs": [
    {
     "name": "stdout",
     "output_type": "stream",
     "text": [
      "Hello you\n"
     ]
    }
   ],
   "source": [
    "def greet(user='you'):\n",
    "    print(\"Hello\", user)\n",
    "    \n",
    "greet()\n",
    "#greet('Mouli')"
   ]
  },
  {
   "cell_type": "code",
   "execution_count": 5,
   "metadata": {},
   "outputs": [],
   "source": [
    "# writing a doc string\n",
    "\n",
    "def greet(user = 'you'):\n",
    "    \"\"\"\n",
    "    This function greets the user\n",
    "    \"\"\"\n",
    "    print('Hello',user)\n"
   ]
  },
  {
   "cell_type": "code",
   "execution_count": 6,
   "metadata": {},
   "outputs": [
    {
     "name": "stdout",
     "output_type": "stream",
     "text": [
      "Hello you\n"
     ]
    }
   ],
   "source": [
    "greet()"
   ]
  },
  {
   "cell_type": "code",
   "execution_count": 5,
   "metadata": {},
   "outputs": [],
   "source": [
    "def add(a,b):\n",
    "    c = a+b\n",
    "    return c # return is used to capture the output\n"
   ]
  },
  {
   "cell_type": "code",
   "execution_count": 6,
   "metadata": {},
   "outputs": [
    {
     "data": {
      "text/plain": [
       "5"
      ]
     },
     "execution_count": 6,
     "metadata": {},
     "output_type": "execute_result"
    }
   ],
   "source": [
    "add(1,4)"
   ]
  },
  {
   "cell_type": "code",
   "execution_count": 22,
   "metadata": {},
   "outputs": [],
   "source": [
    "def factors(a):\n",
    "    \"\"\"\n",
    "    This function gives the factors of a number\n",
    "    \"\"\"\n",
    "    factors=[]\n",
    "\n",
    "    for i in range(1,a+1):\n",
    "\n",
    "        if a%i == 0:\n",
    "        \n",
    "            factors.append(i)\n",
    "        \n",
    "    return factors\n",
    "\n",
    "\n"
   ]
  },
  {
   "cell_type": "code",
   "execution_count": 24,
   "metadata": {},
   "outputs": [
    {
     "data": {
      "text/plain": [
       "[1, 2, 4, 5, 10, 20]"
      ]
     },
     "execution_count": 24,
     "metadata": {},
     "output_type": "execute_result"
    }
   ],
   "source": [
    "factors(20)"
   ]
  },
  {
   "cell_type": "code",
   "execution_count": 11,
   "metadata": {},
   "outputs": [
    {
     "data": {
      "text/plain": [
       "[5, 3, 1, 4, 2]"
      ]
     },
     "execution_count": 11,
     "metadata": {},
     "output_type": "execute_result"
    },
    {
     "data": {
      "text/plain": [
       "[5, 3, 1, 4, 2]"
      ]
     },
     "execution_count": 11,
     "metadata": {},
     "output_type": "execute_result"
    },
    {
     "data": {
      "text/plain": [
       "[5, 3, 1, 4, 2]"
      ]
     },
     "execution_count": 11,
     "metadata": {},
     "output_type": "execute_result"
    }
   ],
   "source": [
    "# for i in range(1,10) : accesing th element index wise \n",
    "# for i in list: accessing the element directly\n",
    "#---------------------------------------------\n",
    "\n",
    "#using list name directly\n",
    "li = ['5','3','1','4','2']\n",
    "ll=[]\n",
    "for i in li:\n",
    "        i = int(i)\n",
    "        ll.append(i)\n",
    "ll\n",
    "#--------------------------------\n",
    "#using range\n",
    "li = ['5','3','1','4','2']\n",
    "ll=[]\n",
    "for i in range(len(li)):\n",
    "        li[i] = int(li[i])\n",
    "        ll.append(li[i])\n",
    "ll\n",
    "#-------------------------------\n",
    "#optimize the code\n",
    "li = [int(i) for i in li]\n",
    "li"
   ]
  },
  {
   "cell_type": "code",
   "execution_count": 2,
   "metadata": {},
   "outputs": [],
   "source": [
    "def even_r_odd(num):\n",
    "    \"\"\"\n",
    "    This function segregates a set of comma sepeartes numerics from the user and stores them in two lists even and odd\n",
    "    and outputs them\n",
    "    \"\"\"\n",
    "    even =[]\n",
    "    odd =[]\n",
    "    \n",
    "    lst = num.split(',') # comm unna chota split chey\n",
    "    lst = [int(i) for i in lst]\n",
    "    \n",
    "    for i in lst:\n",
    "        if i%2 == 0:\n",
    "            even.append(i)\n",
    "        elif i%2 !=0:\n",
    "            odd.append(i)\n",
    "    if len(odd)==0:\n",
    "        odd = 'none'\n",
    "    else:\n",
    "        odd = [str(i) for i in odd]\n",
    "        odd = ','.join(odd)\n",
    "        \n",
    "    if len(even)==0:\n",
    "        even = 'none'\n",
    "    else:\n",
    "        even = [str(i) for i in even]\n",
    "        even = ','.join(even)\n",
    "        \n",
    "    print('even:', even)\n",
    "    print('odd:',odd)\n",
    "    \n",
    "    \n",
    " \n",
    "    "
   ]
  },
  {
   "cell_type": "code",
   "execution_count": 4,
   "metadata": {},
   "outputs": [
    {
     "name": "stdout",
     "output_type": "stream",
     "text": [
      "Enter the sequence of numbers:33\n",
      "even: none\n",
      "odd: 33\n"
     ]
    }
   ],
   "source": [
    "a = input(\"Enter the sequence of numbers:\")\n",
    "even_r_odd(a)\n"
   ]
  },
  {
   "cell_type": "code",
   "execution_count": 14,
   "metadata": {},
   "outputs": [
    {
     "name": "stdout",
     "output_type": "stream",
     "text": [
      "1,2,3,4\n"
     ]
    }
   ],
   "source": [
    "odd=[]\n",
    "num=[1,2,3,4]\n",
    "odd = [str(i) for i in num]\n",
    "odd = ','.join(odd)\n",
    "print(odd)"
   ]
  },
  {
   "cell_type": "markdown",
   "metadata": {},
   "source": [
    "#### Lambda or Anonymous functions\n",
    "\n",
    "- lambda comma-separated arguments:equation"
   ]
  },
  {
   "cell_type": "code",
   "execution_count": 15,
   "metadata": {},
   "outputs": [
    {
     "data": {
      "text/plain": [
       "10"
      ]
     },
     "execution_count": 15,
     "metadata": {},
     "output_type": "execute_result"
    }
   ],
   "source": [
    "sum = lambda a,b: a+b\n",
    "sum(3,7)"
   ]
  },
  {
   "cell_type": "code",
   "execution_count": 16,
   "metadata": {},
   "outputs": [
    {
     "data": {
      "text/plain": [
       "[2, 4, 6]"
      ]
     },
     "execution_count": 16,
     "metadata": {},
     "output_type": "execute_result"
    }
   ],
   "source": [
    "#using iterables : list, tuples are iterables\n",
    "a= lambda x:[i*2 for i in x]\n",
    "\n",
    "a([1,2,3])"
   ]
  },
  {
   "cell_type": "code",
   "execution_count": 17,
   "metadata": {},
   "outputs": [
    {
     "data": {
      "text/plain": [
       "6"
      ]
     },
     "execution_count": 17,
     "metadata": {},
     "output_type": "execute_result"
    }
   ],
   "source": [
    "mul = lambda x: x*3\n",
    "\n",
    "mul(2)"
   ]
  },
  {
   "cell_type": "code",
   "execution_count": 18,
   "metadata": {},
   "outputs": [
    {
     "data": {
      "text/plain": [
       "8"
      ]
     },
     "execution_count": 18,
     "metadata": {},
     "output_type": "execute_result"
    }
   ],
   "source": [
    "#using literals\n",
    "a= lambda x: x*2\n",
    "a(4)"
   ]
  },
  {
   "cell_type": "code",
   "execution_count": 19,
   "metadata": {},
   "outputs": [
    {
     "data": {
      "text/plain": [
       "6"
      ]
     },
     "execution_count": 19,
     "metadata": {},
     "output_type": "execute_result"
    }
   ],
   "source": [
    "def mul_2(a):\n",
    "    return a*2\n",
    "\n",
    "mul_2(3)"
   ]
  },
  {
   "cell_type": "markdown",
   "metadata": {},
   "source": [
    "#### map( ), reduce( ) and filter( ) : maps faster than list comprehension\n",
    " \n",
    "- map ( ) fucntion takes a fucntion or a condition and an iterable as its inputs. It per"
   ]
  },
  {
   "cell_type": "markdown",
   "metadata": {},
   "source": [
    "#### filter ( )\n",
    "\n",
    "- filter ( ) function takes a function or a condiiton and an iterable as its inputs. It applies the condition pon all the  \n",
    "  items in the iterable and returns only those values that satify the condition.\n",
    "- length of the output <=  length of the input"
   ]
  },
  {
   "cell_type": "code",
   "execution_count": 20,
   "metadata": {},
   "outputs": [
    {
     "data": {
      "text/plain": [
       "(4, 2, 8, 21, 777, 78)"
      ]
     },
     "execution_count": 20,
     "metadata": {},
     "output_type": "execute_result"
    }
   ],
   "source": [
    "tuple(filter(lambda x:x%2 ==0 or x%3 == 0,[4,2,8,21,777,78]))"
   ]
  },
  {
   "cell_type": "code",
   "execution_count": 21,
   "metadata": {},
   "outputs": [
    {
     "data": {
      "text/plain": [
       "[3, 5, 7, 9, 11, 13, 15, 17, 19]"
      ]
     },
     "execution_count": 21,
     "metadata": {},
     "output_type": "execute_result"
    }
   ],
   "source": [
    "list(filter(lambda x:x%2 !=0, range(2,20)))"
   ]
  },
  {
   "cell_type": "markdown",
   "metadata": {},
   "source": [
    "#### reduce ( )\n",
    "\n",
    "- reduce function accepts an operation and an iterable as inputs. It performs the operation on all the items of the \n",
    "  iterable step by step and returns a single value\n",
    "- length of the output when using reduce () function is always 1"
   ]
  },
  {
   "cell_type": "code",
   "execution_count": 22,
   "metadata": {},
   "outputs": [],
   "source": [
    "from functools import reduce"
   ]
  },
  {
   "cell_type": "code",
   "execution_count": 23,
   "metadata": {},
   "outputs": [
    {
     "data": {
      "text/plain": [
       "720"
      ]
     },
     "execution_count": 23,
     "metadata": {},
     "output_type": "execute_result"
    }
   ],
   "source": [
    "reduce(lambda x,y: x*y,[1,2,3,4,5,6])"
   ]
  },
  {
   "cell_type": "code",
   "execution_count": 24,
   "metadata": {},
   "outputs": [
    {
     "ename": "SyntaxError",
     "evalue": "invalid syntax (<ipython-input-24-60448e145438>, line 13)",
     "output_type": "error",
     "traceback": [
      "\u001b[0;36m  File \u001b[0;32m\"<ipython-input-24-60448e145438>\"\u001b[0;36m, line \u001b[0;32m13\u001b[0m\n\u001b[0;31m    else:\u001b[0m\n\u001b[0m       ^\u001b[0m\n\u001b[0;31mSyntaxError\u001b[0m\u001b[0;31m:\u001b[0m invalid syntax\n"
     ]
    }
   ],
   "source": [
    "#If Statement\n",
    "#The Python compound statement ’if’ lets you conditionally execute blocks of statements.\n",
    "\n",
    "#Syntax of If statement:\n",
    "\n",
    "if expression:\n",
    "     statement (s)\n",
    "elif expression:\n",
    "     statement (s)\n",
    "elif expression:\n",
    "     statement (s)\n",
    "...\n",
    "else:\n",
    "     statement (s)"
   ]
  },
  {
   "cell_type": "code",
   "execution_count": 25,
   "metadata": {},
   "outputs": [
    {
     "ename": "NameError",
     "evalue": "name 'expression' is not defined",
     "output_type": "error",
     "traceback": [
      "\u001b[0;31m---------------------------------------------------------------------------\u001b[0m",
      "\u001b[0;31mNameError\u001b[0m                                 Traceback (most recent call last)",
      "\u001b[0;32m<ipython-input-25-5989c5e23d92>\u001b[0m in \u001b[0;36m<module>\u001b[0;34m\u001b[0m\n\u001b[1;32m      5\u001b[0m \u001b[0;31m#Syntax of While statement:\u001b[0m\u001b[0;34m\u001b[0m\u001b[0;34m\u001b[0m\u001b[0;34m\u001b[0m\u001b[0m\n\u001b[1;32m      6\u001b[0m \u001b[0;34m\u001b[0m\u001b[0m\n\u001b[0;32m----> 7\u001b[0;31m \u001b[0;32mwhile\u001b[0m \u001b[0mexpression\u001b[0m\u001b[0;34m:\u001b[0m\u001b[0;34m\u001b[0m\u001b[0;34m\u001b[0m\u001b[0m\n\u001b[0m\u001b[1;32m      8\u001b[0m      \u001b[0mstatement\u001b[0m \u001b[0;34m(\u001b[0m\u001b[0ms\u001b[0m\u001b[0;34m)\u001b[0m\u001b[0;34m\u001b[0m\u001b[0;34m\u001b[0m\u001b[0m\n",
      "\u001b[0;31mNameError\u001b[0m: name 'expression' is not defined"
     ]
    }
   ],
   "source": [
    "#While Statement\n",
    "#The while statement in Python programming supports repeated execution of a statement or \n",
    "#block of statements that is controlled by a conditional expression.\n",
    "\n",
    "#Syntax of While statement:\n",
    "\n",
    "while expression:\n",
    "     statement (s)"
   ]
  }
 ],
 "metadata": {
  "kernelspec": {
   "display_name": "Python 3",
   "language": "python",
   "name": "python3"
  },
  "language_info": {
   "codemirror_mode": {
    "name": "ipython",
    "version": 3
   },
   "file_extension": ".py",
   "mimetype": "text/x-python",
   "name": "python",
   "nbconvert_exporter": "python",
   "pygments_lexer": "ipython3",
   "version": "3.7.7"
  }
 },
 "nbformat": 4,
 "nbformat_minor": 2
}
