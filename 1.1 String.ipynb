{
 "cells": [
  {
   "cell_type": "markdown",
   "metadata": {},
   "source": [
    "# Strings\n",
    "\n",
    "\" \", ' ', ` \"\"\" \"\"\" `"
   ]
  },
  {
   "cell_type": "markdown",
   "metadata": {},
   "source": [
    "- A string is a sequence of charachters.\n",
    "- Computers donot deal with charachters.They deal with numbers(binary). Even though you may see charachters on your screen,   internally its stored and manipulated as a combination of 0's and 1's.\n",
    "- This conversion of a charachter to a numer is called encoding. The reverse process is called decoding. ASCII and unicode   are some of the popular encoding used.\n",
    "- In Python string is a sequence of unicode charachter."
   ]
  },
  {
   "cell_type": "code",
   "execution_count": 1,
   "metadata": {},
   "outputs": [
    {
     "name": "stdout",
     "output_type": "stream",
     "text": [
      "Hello\n",
      "Hello\n",
      "Hello\n"
     ]
    }
   ],
   "source": [
    "strings = 'Hello'\n",
    "print(strings)\n",
    "\n",
    "strings = \"Hello\"\n",
    "print(strings)\n",
    "\n",
    "strings = '''Hello'''\n",
    "print(strings)"
   ]
  },
  {
   "cell_type": "markdown",
   "metadata": {},
   "source": [
    "### Delete a String"
   ]
  },
  {
   "cell_type": "code",
   "execution_count": 2,
   "metadata": {},
   "outputs": [],
   "source": [
    "del strings"
   ]
  },
  {
   "cell_type": "code",
   "execution_count": 3,
   "metadata": {},
   "outputs": [
    {
     "ename": "NameError",
     "evalue": "name 'strings' is not defined",
     "output_type": "error",
     "traceback": [
      "\u001b[0;31m---------------------------------------------------------------------------\u001b[0m",
      "\u001b[0;31mNameError\u001b[0m                                 Traceback (most recent call last)",
      "\u001b[0;32m<ipython-input-3-cbf23a5a86ef>\u001b[0m in \u001b[0;36m<module>\u001b[0;34m\u001b[0m\n\u001b[0;32m----> 1\u001b[0;31m \u001b[0mstrings\u001b[0m\u001b[0;34m\u001b[0m\u001b[0;34m\u001b[0m\u001b[0m\n\u001b[0m",
      "\u001b[0;31mNameError\u001b[0m: name 'strings' is not defined"
     ]
    }
   ],
   "source": [
    "strings"
   ]
  },
  {
   "cell_type": "code",
   "execution_count": 4,
   "metadata": {},
   "outputs": [
    {
     "name": "stdout",
     "output_type": "stream",
     "text": [
      "Maq AI Ltd\n"
     ]
    }
   ],
   "source": [
    "text1 = (\"Maq AI Ltd\")\n",
    "print(text1)"
   ]
  },
  {
   "cell_type": "code",
   "execution_count": 5,
   "metadata": {},
   "outputs": [
    {
     "data": {
      "text/plain": [
       "'Python Program'"
      ]
     },
     "execution_count": 5,
     "metadata": {},
     "output_type": "execute_result"
    }
   ],
   "source": [
    "text = (\"Python Program\")\n",
    "text"
   ]
  },
  {
   "cell_type": "code",
   "execution_count": 6,
   "metadata": {},
   "outputs": [
    {
     "data": {
      "text/plain": [
       "str"
      ]
     },
     "execution_count": 6,
     "metadata": {},
     "output_type": "execute_result"
    }
   ],
   "source": [
    "type(text1)"
   ]
  },
  {
   "cell_type": "code",
   "execution_count": 7,
   "metadata": {},
   "outputs": [
    {
     "data": {
      "text/plain": [
       "str"
      ]
     },
     "execution_count": 7,
     "metadata": {},
     "output_type": "execute_result"
    }
   ],
   "source": [
    "type(text)"
   ]
  },
  {
   "cell_type": "markdown",
   "metadata": {},
   "source": [
    "### len()\n",
    "\n",
    "- Gives you length or width of the string"
   ]
  },
  {
   "cell_type": "code",
   "execution_count": 8,
   "metadata": {},
   "outputs": [
    {
     "data": {
      "text/plain": [
       "14"
      ]
     },
     "execution_count": 8,
     "metadata": {},
     "output_type": "execute_result"
    }
   ],
   "source": [
    "text = \"wild dog\"\n",
    "len(text)"
   ]
  },
  {
   "cell_type": "markdown",
   "metadata": {},
   "source": [
    "### Indexing and Slicing\n",
    "\n",
    "- Indexing the postion of each charchter in a string\n",
    "- Slicing is piece of the value of a string\n",
    "- Its denoted by ` [] `\n",
    "- We can access induvidual charachters using indexing and a range of charachters using slicing\n",
    "- Indexing starts from `0`\n",
    "- Trying to access a charahcter out of teh index range will throw an error\n",
    "- The index must be an interger. We cant use float or other types, this will result into    \n",
    "  TypeError\n",
    "- Python allows negative indexing for its sequences"
   ]
  },
  {
   "cell_type": "code",
   "execution_count": 9,
   "metadata": {},
   "outputs": [],
   "source": [
    "from IPython.core.interactiveshell import InteractiveShell\n",
    "InteractiveShell.ast_node_interactivity = \"all\""
   ]
  },
  {
   "cell_type": "code",
   "execution_count": 10,
   "metadata": {},
   "outputs": [
    {
     "data": {
      "text/plain": [
       "'P'"
      ]
     },
     "execution_count": 10,
     "metadata": {},
     "output_type": "execute_result"
    }
   ],
   "source": [
    "#printing 1st charachter\n",
    "text[0]"
   ]
  },
  {
   "cell_type": "code",
   "execution_count": 11,
   "metadata": {},
   "outputs": [
    {
     "data": {
      "text/plain": [
       "'Pyt'"
      ]
     },
     "execution_count": 11,
     "metadata": {},
     "output_type": "execute_result"
    }
   ],
   "source": [
    "#printing Pyt\n",
    "text[0] + text[1] + text[2]"
   ]
  },
  {
   "cell_type": "code",
   "execution_count": 12,
   "metadata": {},
   "outputs": [
    {
     "data": {
      "text/plain": [
       "('P', 'y', 't')"
      ]
     },
     "execution_count": 12,
     "metadata": {},
     "output_type": "execute_result"
    }
   ],
   "source": [
    "#printing 'P', 'y', 't'\n",
    "text[0] , text[1] , text[2]"
   ]
  },
  {
   "cell_type": "code",
   "execution_count": 13,
   "metadata": {},
   "outputs": [
    {
     "data": {
      "text/plain": [
       "'m'"
      ]
     },
     "execution_count": 13,
     "metadata": {},
     "output_type": "execute_result"
    },
    {
     "data": {
      "text/plain": [
       "'m'"
      ]
     },
     "execution_count": 13,
     "metadata": {},
     "output_type": "execute_result"
    }
   ],
   "source": [
    "#printing last element\n",
    "text[13]\n",
    "text[-1]"
   ]
  },
  {
   "cell_type": "code",
   "execution_count": 14,
   "metadata": {},
   "outputs": [
    {
     "data": {
      "text/plain": [
       "'r'"
      ]
     },
     "execution_count": 14,
     "metadata": {},
     "output_type": "execute_result"
    }
   ],
   "source": [
    "#printing last 3rd char of the value\n",
    "text[-3]"
   ]
  },
  {
   "cell_type": "code",
   "execution_count": 15,
   "metadata": {},
   "outputs": [
    {
     "data": {
      "text/plain": [
       "'ram'"
      ]
     },
     "execution_count": 15,
     "metadata": {},
     "output_type": "execute_result"
    }
   ],
   "source": [
    "#printing last three charachters\n",
    "text[-3] + text[-2] + text[-1]"
   ]
  },
  {
   "cell_type": "code",
   "execution_count": 16,
   "metadata": {},
   "outputs": [
    {
     "data": {
      "text/plain": [
       "'m'"
      ]
     },
     "execution_count": 16,
     "metadata": {},
     "output_type": "execute_result"
    }
   ],
   "source": [
    "#print last charachter of the string\n",
    "text[len(text)-1]"
   ]
  },
  {
   "cell_type": "markdown",
   "metadata": {},
   "source": [
    "### Range `[:]`\n",
    "\n",
    "- `[start position : stop position]`\n",
    "- If stop is nth position then it gives (n-1)th position values"
   ]
  },
  {
   "cell_type": "code",
   "execution_count": 17,
   "metadata": {},
   "outputs": [
    {
     "data": {
      "text/plain": [
       "'Python Program'"
      ]
     },
     "execution_count": 17,
     "metadata": {},
     "output_type": "execute_result"
    }
   ],
   "source": [
    "text[:]"
   ]
  },
  {
   "cell_type": "code",
   "execution_count": 18,
   "metadata": {},
   "outputs": [
    {
     "data": {
      "text/plain": [
       "'Pytho'"
      ]
     },
     "execution_count": 18,
     "metadata": {},
     "output_type": "execute_result"
    }
   ],
   "source": [
    "text[0:5]"
   ]
  },
  {
   "cell_type": "code",
   "execution_count": 19,
   "metadata": {},
   "outputs": [
    {
     "data": {
      "text/plain": [
       "'Python'"
      ]
     },
     "execution_count": 19,
     "metadata": {},
     "output_type": "execute_result"
    }
   ],
   "source": [
    "#print Python\n",
    "text[0:6]"
   ]
  },
  {
   "cell_type": "code",
   "execution_count": 20,
   "metadata": {},
   "outputs": [
    {
     "data": {
      "text/plain": [
       "'ram'"
      ]
     },
     "execution_count": 20,
     "metadata": {},
     "output_type": "execute_result"
    },
    {
     "data": {
      "text/plain": [
       "'ram'"
      ]
     },
     "execution_count": 20,
     "metadata": {},
     "output_type": "execute_result"
    },
    {
     "data": {
      "text/plain": [
       "'ram'"
      ]
     },
     "execution_count": 20,
     "metadata": {},
     "output_type": "execute_result"
    }
   ],
   "source": [
    "#print last three elements\n",
    "text[11:14]\n",
    "text[11:]\n",
    "text[-3:]"
   ]
  },
  {
   "cell_type": "markdown",
   "metadata": {},
   "source": [
    "### [Start : Stop : Step]"
   ]
  },
  {
   "cell_type": "code",
   "execution_count": 21,
   "metadata": {},
   "outputs": [
    {
     "data": {
      "text/plain": [
       "'Python'"
      ]
     },
     "execution_count": 21,
     "metadata": {},
     "output_type": "execute_result"
    }
   ],
   "source": [
    "text[0:6:1]"
   ]
  },
  {
   "cell_type": "code",
   "execution_count": 22,
   "metadata": {},
   "outputs": [
    {
     "data": {
      "text/plain": [
       "'margorP nohtyP'"
      ]
     },
     "execution_count": 22,
     "metadata": {},
     "output_type": "execute_result"
    }
   ],
   "source": [
    "text[::-1]"
   ]
  },
  {
   "cell_type": "code",
   "execution_count": 23,
   "metadata": {},
   "outputs": [
    {
     "data": {
      "text/plain": [
       "'argorP'"
      ]
     },
     "execution_count": 23,
     "metadata": {},
     "output_type": "execute_result"
    }
   ],
   "source": [
    "text[-2:-8:-1]"
   ]
  },
  {
   "cell_type": "code",
   "execution_count": 24,
   "metadata": {},
   "outputs": [
    {
     "data": {
      "text/plain": [
       "'Pto'"
      ]
     },
     "execution_count": 24,
     "metadata": {},
     "output_type": "execute_result"
    }
   ],
   "source": [
    "#print 'pto'\n",
    "text[0:5:2]"
   ]
  },
  {
   "cell_type": "code",
   "execution_count": 25,
   "metadata": {},
   "outputs": [],
   "source": [
    "text = '''Python is a intrepreted high-level general-purpose programming language.\n",
    "First released in 1991, Python's design philosophy emphasizes code readability \n",
    "with its notable use of significant white space. Its language constructs and object oriented approach \n",
    "aims to help progrmmaers clear, [], . ss @ logical code for small and large scale projects'''"
   ]
  },
  {
   "cell_type": "code",
   "execution_count": 26,
   "metadata": {},
   "outputs": [
    {
     "data": {
      "text/plain": [
       "\"Python is a intrepreted high-level general-purpose programming language.\\nFirst released in 1991, Python's design philosophy emphasizes code readability \\nwith its notable use of significant white space. Its language constructs and object oriented approach \\naims to help progrmmaers clear, [], . ss @ logical code for small and large scale projects\""
      ]
     },
     "execution_count": 26,
     "metadata": {},
     "output_type": "execute_result"
    }
   ],
   "source": [
    "text"
   ]
  },
  {
   "cell_type": "code",
   "execution_count": 27,
   "metadata": {},
   "outputs": [
    {
     "data": {
      "text/plain": [
       "str"
      ]
     },
     "execution_count": 27,
     "metadata": {},
     "output_type": "execute_result"
    }
   ],
   "source": [
    "type(text)"
   ]
  },
  {
   "cell_type": "code",
   "execution_count": 28,
   "metadata": {},
   "outputs": [
    {
     "data": {
      "text/plain": [
       "346"
      ]
     },
     "execution_count": 28,
     "metadata": {},
     "output_type": "execute_result"
    }
   ],
   "source": [
    "len(text)"
   ]
  },
  {
   "cell_type": "code",
   "execution_count": 29,
   "metadata": {},
   "outputs": [
    {
     "data": {
      "text/plain": [
       "\"python is a intrepreted high-level general-purpose programming language.\\nfirst released in 1991, python's design philosophy emphasizes code readability \\nwith its notable use of significant white space. its language constructs and object oriented approach \\naims to help progrmmaers clear, [], . ss @ logical code for small and large scale projects\""
      ]
     },
     "execution_count": 29,
     "metadata": {},
     "output_type": "execute_result"
    }
   ],
   "source": [
    "text.lower()"
   ]
  },
  {
   "cell_type": "code",
   "execution_count": 30,
   "metadata": {},
   "outputs": [
    {
     "data": {
      "text/plain": [
       "\"Python is a intrepreted high-level general-purpose programming language.\\nFirst released in 1991, Python's design philosophy emphasizes code readability \\nwith its notable use of significant white space. Its language constructs and object oriented approach \\naims to help progrmmaers clear, [], . ss @ logical code for small and large scale projects\""
      ]
     },
     "execution_count": 30,
     "metadata": {},
     "output_type": "execute_result"
    }
   ],
   "source": [
    "text"
   ]
  },
  {
   "cell_type": "code",
   "execution_count": 31,
   "metadata": {},
   "outputs": [
    {
     "data": {
      "text/plain": [
       "\"PYTHON IS A INTREPRETED HIGH-LEVEL GENERAL-PURPOSE PROGRAMMING LANGUAGE.\\nFIRST RELEASED IN 1991, PYTHON'S DESIGN PHILOSOPHY EMPHASIZES CODE READABILITY \\nWITH ITS NOTABLE USE OF SIGNIFICANT WHITE SPACE. ITS LANGUAGE CONSTRUCTS AND OBJECT ORIENTED APPROACH \\nAIMS TO HELP PROGRMMAERS CLEAR, [], . SS @ LOGICAL CODE FOR SMALL AND LARGE SCALE PROJECTS\""
      ]
     },
     "execution_count": 31,
     "metadata": {},
     "output_type": "execute_result"
    }
   ],
   "source": [
    "text.upper()"
   ]
  },
  {
   "cell_type": "code",
   "execution_count": 32,
   "metadata": {},
   "outputs": [
    {
     "data": {
      "text/plain": [
       "\"python is a intrepreted high-level general-purpose programming language.\\nfirst released in 1991, python's design philosophy emphasizes code readability \\nwith its notable use of significant white space. its language constructs and object oriented approach \\naims to help progrmmaers clear, [], . ss @ logical code for small and large scale projects\""
      ]
     },
     "execution_count": 32,
     "metadata": {},
     "output_type": "execute_result"
    }
   ],
   "source": [
    "text = text.lower()#store in a variable for permanent change\n",
    "text"
   ]
  },
  {
   "cell_type": "code",
   "execution_count": 33,
   "metadata": {},
   "outputs": [
    {
     "data": {
      "text/plain": [
       "\"Python Is A Intrepreted High-Level General-Purpose Programming Language.\\nFirst Released In 1991, Python'S Design Philosophy Emphasizes Code Readability \\nWith Its Notable Use Of Significant White Space. Its Language Constructs And Object Oriented Approach \\nAims To Help Progrmmaers Clear, [], . Ss @ Logical Code For Small And Large Scale Projects\""
      ]
     },
     "execution_count": 33,
     "metadata": {},
     "output_type": "execute_result"
    }
   ],
   "source": [
    " text.title() #first letter of every letter turns upper case"
   ]
  },
  {
   "cell_type": "code",
   "execution_count": 34,
   "metadata": {},
   "outputs": [
    {
     "data": {
      "text/plain": [
       "False"
      ]
     },
     "execution_count": 34,
     "metadata": {},
     "output_type": "execute_result"
    }
   ],
   "source": [
    "text.endswith('.')"
   ]
  },
  {
   "cell_type": "code",
   "execution_count": 35,
   "metadata": {},
   "outputs": [
    {
     "data": {
      "text/plain": [
       "True"
      ]
     },
     "execution_count": 35,
     "metadata": {},
     "output_type": "execute_result"
    }
   ],
   "source": [
    "text.endswith('s')"
   ]
  },
  {
   "cell_type": "code",
   "execution_count": 36,
   "metadata": {},
   "outputs": [
    {
     "data": {
      "text/plain": [
       "False"
      ]
     },
     "execution_count": 36,
     "metadata": {},
     "output_type": "execute_result"
    }
   ],
   "source": [
    "text.endswith('.',0,6) #suffix, start , end"
   ]
  },
  {
   "cell_type": "code",
   "execution_count": 37,
   "metadata": {},
   "outputs": [
    {
     "data": {
      "text/plain": [
       "3"
      ]
     },
     "execution_count": 37,
     "metadata": {},
     "output_type": "execute_result"
    }
   ],
   "source": [
    "text.count('ed') #count the no:of times the values is present in the string"
   ]
  },
  {
   "cell_type": "code",
   "execution_count": 38,
   "metadata": {},
   "outputs": [
    {
     "data": {
      "text/plain": [
       "1"
      ]
     },
     "execution_count": 38,
     "metadata": {},
     "output_type": "execute_result"
    }
   ],
   "source": [
    "text.count('ed',0,30) #ed between 0 and 30 index position"
   ]
  },
  {
   "cell_type": "code",
   "execution_count": 39,
   "metadata": {},
   "outputs": [
    {
     "data": {
      "text/plain": [
       "21"
      ]
     },
     "execution_count": 39,
     "metadata": {},
     "output_type": "execute_result"
    }
   ],
   "source": [
    "text.find('ed') #first lower index"
   ]
  },
  {
   "cell_type": "code",
   "execution_count": 40,
   "metadata": {},
   "outputs": [
    {
     "data": {
      "text/plain": [
       "-1"
      ]
     },
     "execution_count": 40,
     "metadata": {},
     "output_type": "execute_result"
    }
   ],
   "source": [
    "text.find('ed',0,15) #find the value from a range"
   ]
  },
  {
   "cell_type": "code",
   "execution_count": 41,
   "metadata": {},
   "outputs": [
    {
     "data": {
      "text/plain": [
       "\"python is a intrepreted high-level general-purpose programming language.\\nfirst released in 1991, python's design philosophy emphasizes code readability \\nwith its notable use of significant white space. its language constructs and object oriented approach \\naims to help progrmmaers clear, [], . ss @ logical code for small and large scale projects\""
      ]
     },
     "execution_count": 41,
     "metadata": {},
     "output_type": "execute_result"
    }
   ],
   "source": [
    "text"
   ]
  },
  {
   "cell_type": "markdown",
   "metadata": {},
   "source": [
    "## Note:\n",
    "\n",
    "- Python String is immutable, so its not possible to change the original string directly.\n",
    "- But we can construct a new string by extracting parts from original string or use `replace()`\n",
    "  method on the original string\n",
    "  "
   ]
  },
  {
   "cell_type": "code",
   "execution_count": 42,
   "metadata": {},
   "outputs": [],
   "source": [
    "text = text.replace(\"-\",\" \") #old, new\n",
    "text = text.replace(\",\",\" \")\n",
    "text = text.replace(\"@\",\"\")\n",
    "text = text.replace(\"[\",\" \")\n",
    "text = text.replace(\"]\",\" \")\n",
    "text = text.replace(\"'\",\"\")\n",
    "text = text.replace(\" \",\" \")\n",
    "text = text.replace(\"\\n\",\"\")\n",
    "text = text.replace(\".\",\"\")\n",
    "text = text.replace(\"ed\",\"ing\",2)"
   ]
  },
  {
   "cell_type": "code",
   "execution_count": 43,
   "metadata": {},
   "outputs": [
    {
     "data": {
      "text/plain": [
       "'python is a intrepreting high level general purpose programming languagefirst releasing in 1991  pythons design philosophy emphasizes code readability with its notable use of significant white space its language constructs and object oriented approach aims to help progrmmaers clear       ss  logical code for small and large scale projects'"
      ]
     },
     "execution_count": 43,
     "metadata": {},
     "output_type": "execute_result"
    }
   ],
   "source": [
    "text"
   ]
  },
  {
   "cell_type": "markdown",
   "metadata": {},
   "source": [
    "### Converting from String to List"
   ]
  },
  {
   "cell_type": "code",
   "execution_count": 44,
   "metadata": {},
   "outputs": [
    {
     "data": {
      "text/plain": [
       "['python',\n",
       " 'is',\n",
       " 'a',\n",
       " 'intrepreting',\n",
       " 'high',\n",
       " 'level',\n",
       " 'general',\n",
       " 'purpose',\n",
       " 'programming',\n",
       " 'languagefirst',\n",
       " 'releasing',\n",
       " 'in',\n",
       " '1991',\n",
       " 'pythons',\n",
       " 'design',\n",
       " 'philosophy',\n",
       " 'emphasizes',\n",
       " 'code',\n",
       " 'readability',\n",
       " 'with',\n",
       " 'its',\n",
       " 'notable',\n",
       " 'use',\n",
       " 'of',\n",
       " 'significant',\n",
       " 'white',\n",
       " 'space',\n",
       " 'its',\n",
       " 'language',\n",
       " 'constructs',\n",
       " 'and',\n",
       " 'object',\n",
       " 'oriented',\n",
       " 'approach',\n",
       " 'aims',\n",
       " 'to',\n",
       " 'help',\n",
       " 'progrmmaers',\n",
       " 'clear',\n",
       " 'ss',\n",
       " 'logical',\n",
       " 'code',\n",
       " 'for',\n",
       " 'small',\n",
       " 'and',\n",
       " 'large',\n",
       " 'scale',\n",
       " 'projects']"
      ]
     },
     "execution_count": 44,
     "metadata": {},
     "output_type": "execute_result"
    }
   ],
   "source": [
    "list1 = text.split() #string to list of words\n",
    "list1"
   ]
  },
  {
   "cell_type": "code",
   "execution_count": 45,
   "metadata": {},
   "outputs": [
    {
     "data": {
      "text/plain": [
       "48"
      ]
     },
     "execution_count": 45,
     "metadata": {},
     "output_type": "execute_result"
    }
   ],
   "source": [
    "len(list1)"
   ]
  },
  {
   "cell_type": "code",
   "execution_count": 46,
   "metadata": {},
   "outputs": [
    {
     "data": {
      "text/plain": [
       "list"
      ]
     },
     "execution_count": 46,
     "metadata": {},
     "output_type": "execute_result"
    }
   ],
   "source": [
    "type(list1)"
   ]
  },
  {
   "cell_type": "code",
   "execution_count": 47,
   "metadata": {},
   "outputs": [
    {
     "data": {
      "text/plain": [
       "'python'"
      ]
     },
     "execution_count": 47,
     "metadata": {},
     "output_type": "execute_result"
    }
   ],
   "source": [
    "list1[0]"
   ]
  },
  {
   "cell_type": "code",
   "execution_count": 48,
   "metadata": {},
   "outputs": [
    {
     "data": {
      "text/plain": [
       "'python is a intrepreting high level general purpose programming languagefirst releasing in 1991 pythons design philosophy emphasizes code readability with its notable use of significant white space its language constructs and object oriented approach aims to help progrmmaers clear ss logical code for small and large scale projects'"
      ]
     },
     "execution_count": 48,
     "metadata": {},
     "output_type": "execute_result"
    }
   ],
   "source": [
    "string = ' '.join(list1)\n",
    "string"
   ]
  },
  {
   "cell_type": "code",
   "execution_count": 49,
   "metadata": {},
   "outputs": [],
   "source": [
    "import numpy as np\n",
    "import pandas as pd"
   ]
  },
  {
   "cell_type": "code",
   "execution_count": 50,
   "metadata": {},
   "outputs": [],
   "source": [
    "x= [' , Redmi Note 7 Pro (Neptune Blue, 64 GB) , Redmi Note 7 Pro (Space Black, 64 GB) , Redmi Note 7 Pro (Nebula Red, 64 GB) , Redmi Note 7 Pro (Astro Moonlight White, 64 GB) , Redmi Note 6 Pro (Black, 64 GB) , Redmi Note 6 Pro (Red, 64 GB) , Redmi Note 6 Pro (Blue, 64 GB) , Mi A2 (Red, 128 GB) , Redmi Note 6 Pro (Rose Gold, 64 GB) , Redmi Note 5 Pro (Blue, 64 GB) , Redmi Note 5 Pro (Red, 64 GB) , Redmi Note 5 Pro (Gold, 64 GB) , Mi A2 (Lake Blue, 128 GB) , Mi A2 (Black, 128 GB) , Mi A2 (Gold, 128 GB) , Redmi Note 5 Pro (Black, 64 GB) , Redmi Note 5 Pro (Rose Gold, 64 GB)']\n"
   ]
  },
  {
   "cell_type": "code",
   "execution_count": 51,
   "metadata": {},
   "outputs": [
    {
     "data": {
      "text/plain": [
       "[' , Redmi Note 7 Pro (Neptune Blue, 64 GB) , Redmi Note 7 Pro (Space Black, 64 GB) , Redmi Note 7 Pro (Nebula Red, 64 GB) , Redmi Note 7 Pro (Astro Moonlight White, 64 GB) , Redmi Note 6 Pro (Black, 64 GB) , Redmi Note 6 Pro (Red, 64 GB) , Redmi Note 6 Pro (Blue, 64 GB) , Mi A2 (Red, 128 GB) , Redmi Note 6 Pro (Rose Gold, 64 GB) , Redmi Note 5 Pro (Blue, 64 GB) , Redmi Note 5 Pro (Red, 64 GB) , Redmi Note 5 Pro (Gold, 64 GB) , Mi A2 (Lake Blue, 128 GB) , Mi A2 (Black, 128 GB) , Mi A2 (Gold, 128 GB) , Redmi Note 5 Pro (Black, 64 GB) , Redmi Note 5 Pro (Rose Gold, 64 GB)']"
      ]
     },
     "execution_count": 51,
     "metadata": {},
     "output_type": "execute_result"
    }
   ],
   "source": [
    "x"
   ]
  },
  {
   "cell_type": "code",
   "execution_count": 52,
   "metadata": {},
   "outputs": [
    {
     "data": {
      "text/plain": [
       "list"
      ]
     },
     "execution_count": 52,
     "metadata": {},
     "output_type": "execute_result"
    }
   ],
   "source": [
    "type(x)"
   ]
  },
  {
   "cell_type": "code",
   "execution_count": 53,
   "metadata": {},
   "outputs": [
    {
     "data": {
      "text/plain": [
       "[[' , Redmi Note 7 Pro (Neptune Blue, 64 GB',\n",
       "  ' , Redmi Note 7 Pro (Space Black, 64 GB',\n",
       "  ' , Redmi Note 7 Pro (Nebula Red, 64 GB',\n",
       "  ' , Redmi Note 7 Pro (Astro Moonlight White, 64 GB',\n",
       "  ' , Redmi Note 6 Pro (Black, 64 GB',\n",
       "  ' , Redmi Note 6 Pro (Red, 64 GB',\n",
       "  ' , Redmi Note 6 Pro (Blue, 64 GB',\n",
       "  ' , Mi A2 (Red, 128 GB',\n",
       "  ' , Redmi Note 6 Pro (Rose Gold, 64 GB',\n",
       "  ' , Redmi Note 5 Pro (Blue, 64 GB',\n",
       "  ' , Redmi Note 5 Pro (Red, 64 GB',\n",
       "  ' , Redmi Note 5 Pro (Gold, 64 GB',\n",
       "  ' , Mi A2 (Lake Blue, 128 GB',\n",
       "  ' , Mi A2 (Black, 128 GB',\n",
       "  ' , Mi A2 (Gold, 128 GB',\n",
       "  ' , Redmi Note 5 Pro (Black, 64 GB',\n",
       "  ' , Redmi Note 5 Pro (Rose Gold, 64 GB',\n",
       "  '']]"
      ]
     },
     "execution_count": 53,
     "metadata": {},
     "output_type": "execute_result"
    }
   ],
   "source": [
    "b=[]\n",
    "for i in x:\n",
    "    b.append(i.split(')'))\n",
    "    \n",
    "b"
   ]
  },
  {
   "cell_type": "code",
   "execution_count": 54,
   "metadata": {},
   "outputs": [
    {
     "data": {
      "text/plain": [
       "[[' , Redmi Note 7 Pro (Neptune Blue, 64 GB',\n",
       "  ' , Redmi Note 7 Pro (Space Black, 64 GB',\n",
       "  ' , Redmi Note 7 Pro (Nebula Red, 64 GB',\n",
       "  ' , Redmi Note 7 Pro (Astro Moonlight White, 64 GB',\n",
       "  ' , Redmi Note 6 Pro (Black, 64 GB',\n",
       "  ' , Redmi Note 6 Pro (Red, 64 GB',\n",
       "  ' , Redmi Note 6 Pro (Blue, 64 GB',\n",
       "  ' , Mi A2 (Red, 128 GB',\n",
       "  ' , Redmi Note 6 Pro (Rose Gold, 64 GB',\n",
       "  ' , Redmi Note 5 Pro (Blue, 64 GB',\n",
       "  ' , Redmi Note 5 Pro (Red, 64 GB',\n",
       "  ' , Redmi Note 5 Pro (Gold, 64 GB',\n",
       "  ' , Mi A2 (Lake Blue, 128 GB',\n",
       "  ' , Mi A2 (Black, 128 GB',\n",
       "  ' , Mi A2 (Gold, 128 GB',\n",
       "  ' , Redmi Note 5 Pro (Black, 64 GB',\n",
       "  ' , Redmi Note 5 Pro (Rose Gold, 64 GB',\n",
       "  '']]"
      ]
     },
     "execution_count": 54,
     "metadata": {},
     "output_type": "execute_result"
    }
   ],
   "source": [
    "b"
   ]
  },
  {
   "cell_type": "code",
   "execution_count": 55,
   "metadata": {},
   "outputs": [
    {
     "data": {
      "text/plain": [
       "' , Redmi Note 7 Pro (Space Black, 64 GB'"
      ]
     },
     "execution_count": 55,
     "metadata": {},
     "output_type": "execute_result"
    }
   ],
   "source": [
    "b[0][1]"
   ]
  },
  {
   "cell_type": "code",
   "execution_count": 56,
   "metadata": {},
   "outputs": [],
   "source": [
    "  z= [' , 4.5 , 4.5 , 4.5 , 4.5 , 4.5 , 4.5 , 4.5 , 4.1 , 4.5 , 4.5 , 4.5 , 4.5 , 4.1 , 4.1 , 4.1 , 4.5 , 4.5']"
   ]
  },
  {
   "cell_type": "code",
   "execution_count": 57,
   "metadata": {},
   "outputs": [],
   "source": [
    "c=[]"
   ]
  },
  {
   "cell_type": "code",
   "execution_count": 58,
   "metadata": {},
   "outputs": [],
   "source": [
    "for i in z:\n",
    "    c.append(i.split(','))"
   ]
  },
  {
   "cell_type": "code",
   "execution_count": 59,
   "metadata": {},
   "outputs": [
    {
     "data": {
      "text/plain": [
       "[[' ',\n",
       "  ' 4.5 ',\n",
       "  ' 4.5 ',\n",
       "  ' 4.5 ',\n",
       "  ' 4.5 ',\n",
       "  ' 4.5 ',\n",
       "  ' 4.5 ',\n",
       "  ' 4.5 ',\n",
       "  ' 4.1 ',\n",
       "  ' 4.5 ',\n",
       "  ' 4.5 ',\n",
       "  ' 4.5 ',\n",
       "  ' 4.5 ',\n",
       "  ' 4.1 ',\n",
       "  ' 4.1 ',\n",
       "  ' 4.1 ',\n",
       "  ' 4.5 ',\n",
       "  ' 4.5']]"
      ]
     },
     "execution_count": 59,
     "metadata": {},
     "output_type": "execute_result"
    }
   ],
   "source": [
    "c"
   ]
  },
  {
   "cell_type": "code",
   "execution_count": 60,
   "metadata": {},
   "outputs": [],
   "source": [
    "f =pd.DataFrame(c)"
   ]
  },
  {
   "cell_type": "code",
   "execution_count": 61,
   "metadata": {},
   "outputs": [
    {
     "data": {
      "text/html": [
       "<div>\n",
       "<style scoped>\n",
       "    .dataframe tbody tr th:only-of-type {\n",
       "        vertical-align: middle;\n",
       "    }\n",
       "\n",
       "    .dataframe tbody tr th {\n",
       "        vertical-align: top;\n",
       "    }\n",
       "\n",
       "    .dataframe thead th {\n",
       "        text-align: right;\n",
       "    }\n",
       "</style>\n",
       "<table border=\"1\" class=\"dataframe\">\n",
       "  <thead>\n",
       "    <tr style=\"text-align: right;\">\n",
       "      <th></th>\n",
       "      <th>0</th>\n",
       "      <th>1</th>\n",
       "      <th>2</th>\n",
       "      <th>3</th>\n",
       "      <th>4</th>\n",
       "      <th>5</th>\n",
       "      <th>6</th>\n",
       "      <th>7</th>\n",
       "      <th>8</th>\n",
       "      <th>9</th>\n",
       "      <th>10</th>\n",
       "      <th>11</th>\n",
       "      <th>12</th>\n",
       "      <th>13</th>\n",
       "      <th>14</th>\n",
       "      <th>15</th>\n",
       "      <th>16</th>\n",
       "      <th>17</th>\n",
       "    </tr>\n",
       "  </thead>\n",
       "  <tbody>\n",
       "    <tr>\n",
       "      <th>0</th>\n",
       "      <td></td>\n",
       "      <td>4.5</td>\n",
       "      <td>4.5</td>\n",
       "      <td>4.5</td>\n",
       "      <td>4.5</td>\n",
       "      <td>4.5</td>\n",
       "      <td>4.5</td>\n",
       "      <td>4.5</td>\n",
       "      <td>4.1</td>\n",
       "      <td>4.5</td>\n",
       "      <td>4.5</td>\n",
       "      <td>4.5</td>\n",
       "      <td>4.5</td>\n",
       "      <td>4.1</td>\n",
       "      <td>4.1</td>\n",
       "      <td>4.1</td>\n",
       "      <td>4.5</td>\n",
       "      <td>4.5</td>\n",
       "    </tr>\n",
       "  </tbody>\n",
       "</table>\n",
       "</div>"
      ],
      "text/plain": [
       "   0      1      2      3      4      5      6      7      8      9     10  \\\n",
       "0      4.5    4.5    4.5    4.5    4.5    4.5    4.5    4.1    4.5    4.5    \n",
       "\n",
       "      11     12     13     14     15     16    17  \n",
       "0   4.5    4.5    4.1    4.1    4.1    4.5    4.5  "
      ]
     },
     "execution_count": 61,
     "metadata": {},
     "output_type": "execute_result"
    }
   ],
   "source": [
    "f"
   ]
  },
  {
   "cell_type": "code",
   "execution_count": 63,
   "metadata": {},
   "outputs": [],
   "source": [
    "df = pd.DataFrame({'Products':x, 'Prices':z})"
   ]
  },
  {
   "cell_type": "code",
   "execution_count": 64,
   "metadata": {},
   "outputs": [
    {
     "data": {
      "text/html": [
       "<div>\n",
       "<style scoped>\n",
       "    .dataframe tbody tr th:only-of-type {\n",
       "        vertical-align: middle;\n",
       "    }\n",
       "\n",
       "    .dataframe tbody tr th {\n",
       "        vertical-align: top;\n",
       "    }\n",
       "\n",
       "    .dataframe thead th {\n",
       "        text-align: right;\n",
       "    }\n",
       "</style>\n",
       "<table border=\"1\" class=\"dataframe\">\n",
       "  <thead>\n",
       "    <tr style=\"text-align: right;\">\n",
       "      <th></th>\n",
       "      <th>Products</th>\n",
       "      <th>Prices</th>\n",
       "    </tr>\n",
       "  </thead>\n",
       "  <tbody>\n",
       "    <tr>\n",
       "      <th>0</th>\n",
       "      <td>, Redmi Note 7 Pro (Neptune Blue, 64 GB) , Re...</td>\n",
       "      <td>, 4.5 , 4.5 , 4.5 , 4.5 , 4.5 , 4.5 , 4.5 , 4...</td>\n",
       "    </tr>\n",
       "  </tbody>\n",
       "</table>\n",
       "</div>"
      ],
      "text/plain": [
       "                                            Products  \\\n",
       "0   , Redmi Note 7 Pro (Neptune Blue, 64 GB) , Re...   \n",
       "\n",
       "                                              Prices  \n",
       "0   , 4.5 , 4.5 , 4.5 , 4.5 , 4.5 , 4.5 , 4.5 , 4...  "
      ]
     },
     "execution_count": 64,
     "metadata": {},
     "output_type": "execute_result"
    }
   ],
   "source": [
    "df"
   ]
  }
 ],
 "metadata": {
  "kernelspec": {
   "display_name": "Python 3",
   "language": "python",
   "name": "python3"
  },
  "language_info": {
   "codemirror_mode": {
    "name": "ipython",
    "version": 3
   },
   "file_extension": ".py",
   "mimetype": "text/x-python",
   "name": "python",
   "nbconvert_exporter": "python",
   "pygments_lexer": "ipython3",
   "version": "3.8.5"
  }
 },
 "nbformat": 4,
 "nbformat_minor": 2
}
